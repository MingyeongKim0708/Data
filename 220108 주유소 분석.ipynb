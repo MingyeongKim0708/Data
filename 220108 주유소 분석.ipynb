{
 "cells": [
  {
   "cell_type": "markdown",
   "id": "9920f140",
   "metadata": {},
   "source": [
    "## Toyproject - 데이터 분석"
   ]
  },
  {
   "cell_type": "markdown",
   "id": "cf01ce1f",
   "metadata": {},
   "source": [
    "#### 김민경"
   ]
  },
  {
   "cell_type": "markdown",
   "id": "76a72345",
   "metadata": {},
   "source": [
    "### 주유소 분석"
   ]
  },
  {
   "cell_type": "markdown",
   "id": "fb1d45da",
   "metadata": {},
   "source": [
    "1. 부산 지역에서는 해운대구의 기름이 가장 비쌀 것이다.(해운대구가 전체적으로 물가가 비싼 이미지)<br>\n",
    "▶부산 지역에서 어떤 구가 제일 가격이 저렴한지<br><br>\n",
    "2. 알뜰주유소의 기름가격이 다른 상표에 비해서 많이 저렴할 것이다.<br>\n",
    "▶어떤 브랜드가 가장 저렴한지<br><br>\n",
    "3. 셀프 주유소를 사용하는 것이 비셀프 주유소를 이용하는 것보다 훨씬 저렴할 것이다.<br>\n",
    "▶셀프 주유소와 비셀프 주유소 간의 평균 가격 차이가 얼마나 나는지"
   ]
  },
  {
   "cell_type": "markdown",
   "id": "0fd5899d",
   "metadata": {},
   "source": [
    "### 데이터 전처리"
   ]
  },
  {
   "cell_type": "markdown",
   "id": "b62eef48",
   "metadata": {},
   "source": [
    "파일 불러오기 & 헤더 부분이 없어져서 헤더 불러오기"
   ]
  },
  {
   "cell_type": "code",
   "execution_count": 74,
   "id": "b14199c8",
   "metadata": {},
   "outputs": [
    {
     "data": {
      "text/html": [
       "<div>\n",
       "<style scoped>\n",
       "    .dataframe tbody tr th:only-of-type {\n",
       "        vertical-align: middle;\n",
       "    }\n",
       "\n",
       "    .dataframe tbody tr th {\n",
       "        vertical-align: top;\n",
       "    }\n",
       "\n",
       "    .dataframe thead th {\n",
       "        text-align: right;\n",
       "    }\n",
       "</style>\n",
       "<table border=\"1\" class=\"dataframe\">\n",
       "  <thead>\n",
       "    <tr style=\"text-align: right;\">\n",
       "      <th></th>\n",
       "      <th>지역</th>\n",
       "      <th>상호</th>\n",
       "      <th>주소</th>\n",
       "      <th>상표</th>\n",
       "      <th>전화번호</th>\n",
       "      <th>셀프여부</th>\n",
       "      <th>고급휘발유</th>\n",
       "      <th>휘발유</th>\n",
       "      <th>경유</th>\n",
       "      <th>실내등유</th>\n",
       "    </tr>\n",
       "  </thead>\n",
       "  <tbody>\n",
       "    <tr>\n",
       "      <th>0</th>\n",
       "      <td>부산광역시</td>\n",
       "      <td>부산축산농협주유소</td>\n",
       "      <td>부산 강서구 낙동남로 448 (녹산동)</td>\n",
       "      <td>NH-OIL</td>\n",
       "      <td>051-973-8141</td>\n",
       "      <td>N</td>\n",
       "      <td>-</td>\n",
       "      <td>1549</td>\n",
       "      <td>1349</td>\n",
       "      <td>1100</td>\n",
       "    </tr>\n",
       "    <tr>\n",
       "      <th>1</th>\n",
       "      <td>부산광역시</td>\n",
       "      <td>공항대로주유소</td>\n",
       "      <td>부산 강서구 공항로 1217 (대저1동)</td>\n",
       "      <td>알뜰주유소</td>\n",
       "      <td>051-973-8122</td>\n",
       "      <td>Y</td>\n",
       "      <td>-</td>\n",
       "      <td>1558</td>\n",
       "      <td>1368</td>\n",
       "      <td>1000</td>\n",
       "    </tr>\n",
       "    <tr>\n",
       "      <th>2</th>\n",
       "      <td>부산광역시</td>\n",
       "      <td>우리들주유소</td>\n",
       "      <td>부산 강서구 낙동남로 667 (녹산동)</td>\n",
       "      <td>알뜰주유소</td>\n",
       "      <td>051-941-5145</td>\n",
       "      <td>Y</td>\n",
       "      <td>-</td>\n",
       "      <td>1559</td>\n",
       "      <td>1359</td>\n",
       "      <td>-</td>\n",
       "    </tr>\n",
       "    <tr>\n",
       "      <th>3</th>\n",
       "      <td>부산광역시</td>\n",
       "      <td>(주)시큐 국제산단주유소</td>\n",
       "      <td>부산 강서구 생곡로 272</td>\n",
       "      <td>GS칼텍스</td>\n",
       "      <td>051-714-2208</td>\n",
       "      <td>Y</td>\n",
       "      <td>-</td>\n",
       "      <td>1559</td>\n",
       "      <td>1359</td>\n",
       "      <td>1050</td>\n",
       "    </tr>\n",
       "    <tr>\n",
       "      <th>4</th>\n",
       "      <td>부산광역시</td>\n",
       "      <td>김해공항주유소</td>\n",
       "      <td>부산 강서구 공항진입로 25 (대저2동)</td>\n",
       "      <td>GS칼텍스</td>\n",
       "      <td>051-973-8291</td>\n",
       "      <td>Y</td>\n",
       "      <td>-</td>\n",
       "      <td>1568</td>\n",
       "      <td>1389</td>\n",
       "      <td>1120</td>\n",
       "    </tr>\n",
       "  </tbody>\n",
       "</table>\n",
       "</div>"
      ],
      "text/plain": [
       "      지역             상호                      주소      상표          전화번호 셀프여부  \\\n",
       "0  부산광역시      부산축산농협주유소   부산 강서구 낙동남로 448 (녹산동)  NH-OIL  051-973-8141    N   \n",
       "1  부산광역시        공항대로주유소  부산 강서구 공항로 1217 (대저1동)   알뜰주유소  051-973-8122    Y   \n",
       "2  부산광역시         우리들주유소   부산 강서구 낙동남로 667 (녹산동)   알뜰주유소  051-941-5145    Y   \n",
       "3  부산광역시  (주)시큐 국제산단주유소          부산 강서구 생곡로 272   GS칼텍스  051-714-2208    Y   \n",
       "4  부산광역시        김해공항주유소  부산 강서구 공항진입로 25 (대저2동)   GS칼텍스  051-973-8291    Y   \n",
       "\n",
       "  고급휘발유   휘발유    경유  실내등유  \n",
       "0     -  1549  1349  1100  \n",
       "1     -  1558  1368  1000  \n",
       "2     -  1559  1359     -  \n",
       "3     -  1559  1359  1050  \n",
       "4     -  1568  1389  1120  "
      ]
     },
     "execution_count": 74,
     "metadata": {},
     "output_type": "execute_result"
    }
   ],
   "source": [
    "import pandas as pd\n",
    "test = pd.read_excel('지역_위치별(주유소).xls', header=2)\n",
    "\n",
    "test.head()"
   ]
  },
  {
   "cell_type": "markdown",
   "id": "1269941c",
   "metadata": {},
   "source": [
    "컬럼 내용 확인"
   ]
  },
  {
   "cell_type": "code",
   "execution_count": 2,
   "id": "13c427ff",
   "metadata": {},
   "outputs": [
    {
     "data": {
      "text/plain": [
       "Index(['지역', '상호', '주소', '상표', '전화번호', '셀프여부', '고급휘발유', '휘발유', '경유', '실내등유'], dtype='object')"
      ]
     },
     "execution_count": 2,
     "metadata": {},
     "output_type": "execute_result"
    }
   ],
   "source": [
    "test.columns"
   ]
  },
  {
   "cell_type": "markdown",
   "id": "991306d7",
   "metadata": {},
   "source": [
    "데이터 타입 확인"
   ]
  },
  {
   "cell_type": "code",
   "execution_count": 3,
   "id": "76876701",
   "metadata": {},
   "outputs": [
    {
     "name": "stdout",
     "output_type": "stream",
     "text": [
      "<class 'pandas.core.frame.DataFrame'>\n",
      "RangeIndex: 394 entries, 0 to 393\n",
      "Data columns (total 10 columns):\n",
      " #   Column  Non-Null Count  Dtype \n",
      "---  ------  --------------  ----- \n",
      " 0   지역      394 non-null    object\n",
      " 1   상호      394 non-null    object\n",
      " 2   주소      394 non-null    object\n",
      " 3   상표      394 non-null    object\n",
      " 4   전화번호    394 non-null    object\n",
      " 5   셀프여부    394 non-null    object\n",
      " 6   고급휘발유   394 non-null    object\n",
      " 7   휘발유     394 non-null    object\n",
      " 8   경유      394 non-null    object\n",
      " 9   실내등유    394 non-null    object\n",
      "dtypes: object(10)\n",
      "memory usage: 30.9+ KB\n"
     ]
    }
   ],
   "source": [
    "test.info()"
   ]
  },
  {
   "cell_type": "markdown",
   "id": "03dea409",
   "metadata": {},
   "source": [
    "필요한 데이터만 data라는 이름의 데이터프레임으로 만든다."
   ]
  },
  {
   "cell_type": "code",
   "execution_count": 4,
   "id": "b40a2db4",
   "metadata": {},
   "outputs": [],
   "source": [
    "data = pd.DataFrame({\n",
    "    '상호':test['상호'],\n",
    "    '주소':test['주소'],\n",
    "    '상표':test['상표'],\n",
    "    '셀프여부':test['셀프여부'],\n",
    "    '휘발유':test['휘발유'],\n",
    "    '경유':test['경유'],\n",
    "})"
   ]
  },
  {
   "cell_type": "code",
   "execution_count": 5,
   "id": "0d928b0b",
   "metadata": {},
   "outputs": [
    {
     "data": {
      "text/html": [
       "<div>\n",
       "<style scoped>\n",
       "    .dataframe tbody tr th:only-of-type {\n",
       "        vertical-align: middle;\n",
       "    }\n",
       "\n",
       "    .dataframe tbody tr th {\n",
       "        vertical-align: top;\n",
       "    }\n",
       "\n",
       "    .dataframe thead th {\n",
       "        text-align: right;\n",
       "    }\n",
       "</style>\n",
       "<table border=\"1\" class=\"dataframe\">\n",
       "  <thead>\n",
       "    <tr style=\"text-align: right;\">\n",
       "      <th></th>\n",
       "      <th>상호</th>\n",
       "      <th>주소</th>\n",
       "      <th>상표</th>\n",
       "      <th>셀프여부</th>\n",
       "      <th>휘발유</th>\n",
       "      <th>경유</th>\n",
       "    </tr>\n",
       "  </thead>\n",
       "  <tbody>\n",
       "    <tr>\n",
       "      <th>0</th>\n",
       "      <td>부산축산농협주유소</td>\n",
       "      <td>부산 강서구 낙동남로 448 (녹산동)</td>\n",
       "      <td>NH-OIL</td>\n",
       "      <td>N</td>\n",
       "      <td>1549</td>\n",
       "      <td>1349</td>\n",
       "    </tr>\n",
       "    <tr>\n",
       "      <th>1</th>\n",
       "      <td>공항대로주유소</td>\n",
       "      <td>부산 강서구 공항로 1217 (대저1동)</td>\n",
       "      <td>알뜰주유소</td>\n",
       "      <td>Y</td>\n",
       "      <td>1558</td>\n",
       "      <td>1368</td>\n",
       "    </tr>\n",
       "    <tr>\n",
       "      <th>2</th>\n",
       "      <td>우리들주유소</td>\n",
       "      <td>부산 강서구 낙동남로 667 (녹산동)</td>\n",
       "      <td>알뜰주유소</td>\n",
       "      <td>Y</td>\n",
       "      <td>1559</td>\n",
       "      <td>1359</td>\n",
       "    </tr>\n",
       "    <tr>\n",
       "      <th>3</th>\n",
       "      <td>(주)시큐 국제산단주유소</td>\n",
       "      <td>부산 강서구 생곡로 272</td>\n",
       "      <td>GS칼텍스</td>\n",
       "      <td>Y</td>\n",
       "      <td>1559</td>\n",
       "      <td>1359</td>\n",
       "    </tr>\n",
       "    <tr>\n",
       "      <th>4</th>\n",
       "      <td>김해공항주유소</td>\n",
       "      <td>부산 강서구 공항진입로 25 (대저2동)</td>\n",
       "      <td>GS칼텍스</td>\n",
       "      <td>Y</td>\n",
       "      <td>1568</td>\n",
       "      <td>1389</td>\n",
       "    </tr>\n",
       "    <tr>\n",
       "      <th>...</th>\n",
       "      <td>...</td>\n",
       "      <td>...</td>\n",
       "      <td>...</td>\n",
       "      <td>...</td>\n",
       "      <td>...</td>\n",
       "      <td>...</td>\n",
       "    </tr>\n",
       "    <tr>\n",
       "      <th>389</th>\n",
       "      <td>SK에너지(주)신도시주유소</td>\n",
       "      <td>부산 해운대구 대천로 82 (좌동)</td>\n",
       "      <td>SK에너지</td>\n",
       "      <td>Y</td>\n",
       "      <td>1649</td>\n",
       "      <td>1459</td>\n",
       "    </tr>\n",
       "    <tr>\n",
       "      <th>390</th>\n",
       "      <td>SK에너지(주) 돌고래주유소</td>\n",
       "      <td>부산 해운대구 해운대로573번길 16</td>\n",
       "      <td>SK에너지</td>\n",
       "      <td>N</td>\n",
       "      <td>1659</td>\n",
       "      <td>1459</td>\n",
       "    </tr>\n",
       "    <tr>\n",
       "      <th>391</th>\n",
       "      <td>지에스칼텍스(주)해운대중동주유소</td>\n",
       "      <td>부산 해운대구 좌동로 34 (중동)</td>\n",
       "      <td>GS칼텍스</td>\n",
       "      <td>Y</td>\n",
       "      <td>1659</td>\n",
       "      <td>1469</td>\n",
       "    </tr>\n",
       "    <tr>\n",
       "      <th>392</th>\n",
       "      <td>에스씨(주) 마리나타운주유소</td>\n",
       "      <td>부산 해운대구 해운대해변로 44 (우동)</td>\n",
       "      <td>GS칼텍스</td>\n",
       "      <td>N</td>\n",
       "      <td>1698</td>\n",
       "      <td>1528</td>\n",
       "    </tr>\n",
       "    <tr>\n",
       "      <th>393</th>\n",
       "      <td>백천주유소</td>\n",
       "      <td>부산광역시 해운대구  반송로 910 (반송제2동)</td>\n",
       "      <td>GS칼텍스</td>\n",
       "      <td>N</td>\n",
       "      <td>-</td>\n",
       "      <td>-</td>\n",
       "    </tr>\n",
       "  </tbody>\n",
       "</table>\n",
       "<p>394 rows × 6 columns</p>\n",
       "</div>"
      ],
      "text/plain": [
       "                    상호                           주소      상표 셀프여부   휘발유    경유\n",
       "0            부산축산농협주유소        부산 강서구 낙동남로 448 (녹산동)  NH-OIL    N  1549  1349\n",
       "1              공항대로주유소       부산 강서구 공항로 1217 (대저1동)   알뜰주유소    Y  1558  1368\n",
       "2               우리들주유소        부산 강서구 낙동남로 667 (녹산동)   알뜰주유소    Y  1559  1359\n",
       "3        (주)시큐 국제산단주유소               부산 강서구 생곡로 272   GS칼텍스    Y  1559  1359\n",
       "4              김해공항주유소       부산 강서구 공항진입로 25 (대저2동)   GS칼텍스    Y  1568  1389\n",
       "..                 ...                          ...     ...  ...   ...   ...\n",
       "389     SK에너지(주)신도시주유소          부산 해운대구 대천로 82 (좌동)   SK에너지    Y  1649  1459\n",
       "390    SK에너지(주) 돌고래주유소         부산 해운대구 해운대로573번길 16   SK에너지    N  1659  1459\n",
       "391  지에스칼텍스(주)해운대중동주유소          부산 해운대구 좌동로 34 (중동)   GS칼텍스    Y  1659  1469\n",
       "392    에스씨(주) 마리나타운주유소       부산 해운대구 해운대해변로 44 (우동)   GS칼텍스    N  1698  1528\n",
       "393              백천주유소  부산광역시 해운대구  반송로 910 (반송제2동)   GS칼텍스    N     -     -\n",
       "\n",
       "[394 rows x 6 columns]"
      ]
     },
     "execution_count": 5,
     "metadata": {},
     "output_type": "execute_result"
    }
   ],
   "source": [
    "data"
   ]
  },
  {
   "cell_type": "markdown",
   "id": "bd6e6a5a",
   "metadata": {},
   "source": [
    "주소에서 '구' 부분만 분리하기"
   ]
  },
  {
   "cell_type": "code",
   "execution_count": 6,
   "id": "e9fcb6fd",
   "metadata": {},
   "outputs": [
    {
     "data": {
      "text/html": [
       "<div>\n",
       "<style scoped>\n",
       "    .dataframe tbody tr th:only-of-type {\n",
       "        vertical-align: middle;\n",
       "    }\n",
       "\n",
       "    .dataframe tbody tr th {\n",
       "        vertical-align: top;\n",
       "    }\n",
       "\n",
       "    .dataframe thead th {\n",
       "        text-align: right;\n",
       "    }\n",
       "</style>\n",
       "<table border=\"1\" class=\"dataframe\">\n",
       "  <thead>\n",
       "    <tr style=\"text-align: right;\">\n",
       "      <th></th>\n",
       "      <th>상호</th>\n",
       "      <th>주소</th>\n",
       "      <th>상표</th>\n",
       "      <th>셀프여부</th>\n",
       "      <th>휘발유</th>\n",
       "      <th>경유</th>\n",
       "      <th>구</th>\n",
       "    </tr>\n",
       "  </thead>\n",
       "  <tbody>\n",
       "    <tr>\n",
       "      <th>0</th>\n",
       "      <td>부산축산농협주유소</td>\n",
       "      <td>부산 강서구 낙동남로 448 (녹산동)</td>\n",
       "      <td>NH-OIL</td>\n",
       "      <td>N</td>\n",
       "      <td>1549</td>\n",
       "      <td>1349</td>\n",
       "      <td>강서구</td>\n",
       "    </tr>\n",
       "    <tr>\n",
       "      <th>1</th>\n",
       "      <td>공항대로주유소</td>\n",
       "      <td>부산 강서구 공항로 1217 (대저1동)</td>\n",
       "      <td>알뜰주유소</td>\n",
       "      <td>Y</td>\n",
       "      <td>1558</td>\n",
       "      <td>1368</td>\n",
       "      <td>강서구</td>\n",
       "    </tr>\n",
       "    <tr>\n",
       "      <th>2</th>\n",
       "      <td>우리들주유소</td>\n",
       "      <td>부산 강서구 낙동남로 667 (녹산동)</td>\n",
       "      <td>알뜰주유소</td>\n",
       "      <td>Y</td>\n",
       "      <td>1559</td>\n",
       "      <td>1359</td>\n",
       "      <td>강서구</td>\n",
       "    </tr>\n",
       "    <tr>\n",
       "      <th>3</th>\n",
       "      <td>(주)시큐 국제산단주유소</td>\n",
       "      <td>부산 강서구 생곡로 272</td>\n",
       "      <td>GS칼텍스</td>\n",
       "      <td>Y</td>\n",
       "      <td>1559</td>\n",
       "      <td>1359</td>\n",
       "      <td>강서구</td>\n",
       "    </tr>\n",
       "    <tr>\n",
       "      <th>4</th>\n",
       "      <td>김해공항주유소</td>\n",
       "      <td>부산 강서구 공항진입로 25 (대저2동)</td>\n",
       "      <td>GS칼텍스</td>\n",
       "      <td>Y</td>\n",
       "      <td>1568</td>\n",
       "      <td>1389</td>\n",
       "      <td>강서구</td>\n",
       "    </tr>\n",
       "  </tbody>\n",
       "</table>\n",
       "</div>"
      ],
      "text/plain": [
       "              상호                      주소      상표 셀프여부   휘발유    경유    구\n",
       "0      부산축산농협주유소   부산 강서구 낙동남로 448 (녹산동)  NH-OIL    N  1549  1349  강서구\n",
       "1        공항대로주유소  부산 강서구 공항로 1217 (대저1동)   알뜰주유소    Y  1558  1368  강서구\n",
       "2         우리들주유소   부산 강서구 낙동남로 667 (녹산동)   알뜰주유소    Y  1559  1359  강서구\n",
       "3  (주)시큐 국제산단주유소          부산 강서구 생곡로 272   GS칼텍스    Y  1559  1359  강서구\n",
       "4        김해공항주유소  부산 강서구 공항진입로 25 (대저2동)   GS칼텍스    Y  1568  1389  강서구"
      ]
     },
     "execution_count": 6,
     "metadata": {},
     "output_type": "execute_result"
    }
   ],
   "source": [
    "data['구'] = [add.split()[1] for add in data['주소']]\n",
    "data.head()"
   ]
  },
  {
   "cell_type": "markdown",
   "id": "953c1a1d",
   "metadata": {},
   "source": [
    "혹시 이상한 부분이 분리되지는 않았는지 체크하기(ex. 부산 광역시 = '광역시' 부분이 나오는 경우)"
   ]
  },
  {
   "cell_type": "code",
   "execution_count": 7,
   "id": "617ba181",
   "metadata": {},
   "outputs": [
    {
     "data": {
      "text/plain": [
       "array(['강서구', '금정구', '기장군', '남구', '동구', '동래구', '부산진구', '북구', '사상구', '사하구',\n",
       "       '서구', '수영구', '연제구', '영도구', '중구', '해운대구'], dtype=object)"
      ]
     },
     "execution_count": 7,
     "metadata": {},
     "output_type": "execute_result"
    }
   ],
   "source": [
    "data['구'].unique()"
   ]
  },
  {
   "cell_type": "markdown",
   "id": "e3e7ceee",
   "metadata": {},
   "source": [
    "휘발유와 경유를 숫자형으로 형변환"
   ]
  },
  {
   "cell_type": "code",
   "execution_count": 8,
   "id": "34ffc004",
   "metadata": {},
   "outputs": [
    {
     "ename": "ValueError",
     "evalue": "could not convert string to float: '-'",
     "output_type": "error",
     "traceback": [
      "\u001b[1;31m---------------------------------------------------------------------------\u001b[0m",
      "\u001b[1;31mValueError\u001b[0m                                Traceback (most recent call last)",
      "\u001b[1;32m<ipython-input-8-9e34fb14d59b>\u001b[0m in \u001b[0;36m<module>\u001b[1;34m\u001b[0m\n\u001b[1;32m----> 1\u001b[1;33m \u001b[0mdata\u001b[0m\u001b[1;33m[\u001b[0m\u001b[1;34m'휘발유'\u001b[0m\u001b[1;33m]\u001b[0m \u001b[1;33m=\u001b[0m \u001b[0mdata\u001b[0m\u001b[1;33m[\u001b[0m\u001b[1;34m'휘발유'\u001b[0m\u001b[1;33m]\u001b[0m\u001b[1;33m.\u001b[0m\u001b[0mastype\u001b[0m\u001b[1;33m(\u001b[0m\u001b[0mfloat\u001b[0m\u001b[1;33m)\u001b[0m\u001b[1;33m\u001b[0m\u001b[1;33m\u001b[0m\u001b[0m\n\u001b[0m",
      "\u001b[1;32m~\\AppData\\Roaming\\Python\\Python38\\site-packages\\pandas\\core\\generic.py\u001b[0m in \u001b[0;36mastype\u001b[1;34m(self, dtype, copy, errors)\u001b[0m\n\u001b[0;32m   5813\u001b[0m         \u001b[1;32melse\u001b[0m\u001b[1;33m:\u001b[0m\u001b[1;33m\u001b[0m\u001b[1;33m\u001b[0m\u001b[0m\n\u001b[0;32m   5814\u001b[0m             \u001b[1;31m# else, only a single dtype is given\u001b[0m\u001b[1;33m\u001b[0m\u001b[1;33m\u001b[0m\u001b[1;33m\u001b[0m\u001b[0m\n\u001b[1;32m-> 5815\u001b[1;33m             \u001b[0mnew_data\u001b[0m \u001b[1;33m=\u001b[0m \u001b[0mself\u001b[0m\u001b[1;33m.\u001b[0m\u001b[0m_mgr\u001b[0m\u001b[1;33m.\u001b[0m\u001b[0mastype\u001b[0m\u001b[1;33m(\u001b[0m\u001b[0mdtype\u001b[0m\u001b[1;33m=\u001b[0m\u001b[0mdtype\u001b[0m\u001b[1;33m,\u001b[0m \u001b[0mcopy\u001b[0m\u001b[1;33m=\u001b[0m\u001b[0mcopy\u001b[0m\u001b[1;33m,\u001b[0m \u001b[0merrors\u001b[0m\u001b[1;33m=\u001b[0m\u001b[0merrors\u001b[0m\u001b[1;33m)\u001b[0m\u001b[1;33m\u001b[0m\u001b[1;33m\u001b[0m\u001b[0m\n\u001b[0m\u001b[0;32m   5816\u001b[0m             \u001b[1;32mreturn\u001b[0m \u001b[0mself\u001b[0m\u001b[1;33m.\u001b[0m\u001b[0m_constructor\u001b[0m\u001b[1;33m(\u001b[0m\u001b[0mnew_data\u001b[0m\u001b[1;33m)\u001b[0m\u001b[1;33m.\u001b[0m\u001b[0m__finalize__\u001b[0m\u001b[1;33m(\u001b[0m\u001b[0mself\u001b[0m\u001b[1;33m,\u001b[0m \u001b[0mmethod\u001b[0m\u001b[1;33m=\u001b[0m\u001b[1;34m\"astype\"\u001b[0m\u001b[1;33m)\u001b[0m\u001b[1;33m\u001b[0m\u001b[1;33m\u001b[0m\u001b[0m\n\u001b[0;32m   5817\u001b[0m \u001b[1;33m\u001b[0m\u001b[0m\n",
      "\u001b[1;32m~\\AppData\\Roaming\\Python\\Python38\\site-packages\\pandas\\core\\internals\\managers.py\u001b[0m in \u001b[0;36mastype\u001b[1;34m(self, dtype, copy, errors)\u001b[0m\n\u001b[0;32m    416\u001b[0m \u001b[1;33m\u001b[0m\u001b[0m\n\u001b[0;32m    417\u001b[0m     \u001b[1;32mdef\u001b[0m \u001b[0mastype\u001b[0m\u001b[1;33m(\u001b[0m\u001b[0mself\u001b[0m\u001b[1;33m:\u001b[0m \u001b[0mT\u001b[0m\u001b[1;33m,\u001b[0m \u001b[0mdtype\u001b[0m\u001b[1;33m,\u001b[0m \u001b[0mcopy\u001b[0m\u001b[1;33m:\u001b[0m \u001b[0mbool\u001b[0m \u001b[1;33m=\u001b[0m \u001b[1;32mFalse\u001b[0m\u001b[1;33m,\u001b[0m \u001b[0merrors\u001b[0m\u001b[1;33m:\u001b[0m \u001b[0mstr\u001b[0m \u001b[1;33m=\u001b[0m \u001b[1;34m\"raise\"\u001b[0m\u001b[1;33m)\u001b[0m \u001b[1;33m->\u001b[0m \u001b[0mT\u001b[0m\u001b[1;33m:\u001b[0m\u001b[1;33m\u001b[0m\u001b[1;33m\u001b[0m\u001b[0m\n\u001b[1;32m--> 418\u001b[1;33m         \u001b[1;32mreturn\u001b[0m \u001b[0mself\u001b[0m\u001b[1;33m.\u001b[0m\u001b[0mapply\u001b[0m\u001b[1;33m(\u001b[0m\u001b[1;34m\"astype\"\u001b[0m\u001b[1;33m,\u001b[0m \u001b[0mdtype\u001b[0m\u001b[1;33m=\u001b[0m\u001b[0mdtype\u001b[0m\u001b[1;33m,\u001b[0m \u001b[0mcopy\u001b[0m\u001b[1;33m=\u001b[0m\u001b[0mcopy\u001b[0m\u001b[1;33m,\u001b[0m \u001b[0merrors\u001b[0m\u001b[1;33m=\u001b[0m\u001b[0merrors\u001b[0m\u001b[1;33m)\u001b[0m\u001b[1;33m\u001b[0m\u001b[1;33m\u001b[0m\u001b[0m\n\u001b[0m\u001b[0;32m    419\u001b[0m \u001b[1;33m\u001b[0m\u001b[0m\n\u001b[0;32m    420\u001b[0m     def convert(\n",
      "\u001b[1;32m~\\AppData\\Roaming\\Python\\Python38\\site-packages\\pandas\\core\\internals\\managers.py\u001b[0m in \u001b[0;36mapply\u001b[1;34m(self, f, align_keys, ignore_failures, **kwargs)\u001b[0m\n\u001b[0;32m    325\u001b[0m                     \u001b[0mapplied\u001b[0m \u001b[1;33m=\u001b[0m \u001b[0mb\u001b[0m\u001b[1;33m.\u001b[0m\u001b[0mapply\u001b[0m\u001b[1;33m(\u001b[0m\u001b[0mf\u001b[0m\u001b[1;33m,\u001b[0m \u001b[1;33m**\u001b[0m\u001b[0mkwargs\u001b[0m\u001b[1;33m)\u001b[0m\u001b[1;33m\u001b[0m\u001b[1;33m\u001b[0m\u001b[0m\n\u001b[0;32m    326\u001b[0m                 \u001b[1;32melse\u001b[0m\u001b[1;33m:\u001b[0m\u001b[1;33m\u001b[0m\u001b[1;33m\u001b[0m\u001b[0m\n\u001b[1;32m--> 327\u001b[1;33m                     \u001b[0mapplied\u001b[0m \u001b[1;33m=\u001b[0m \u001b[0mgetattr\u001b[0m\u001b[1;33m(\u001b[0m\u001b[0mb\u001b[0m\u001b[1;33m,\u001b[0m \u001b[0mf\u001b[0m\u001b[1;33m)\u001b[0m\u001b[1;33m(\u001b[0m\u001b[1;33m**\u001b[0m\u001b[0mkwargs\u001b[0m\u001b[1;33m)\u001b[0m\u001b[1;33m\u001b[0m\u001b[1;33m\u001b[0m\u001b[0m\n\u001b[0m\u001b[0;32m    328\u001b[0m             \u001b[1;32mexcept\u001b[0m \u001b[1;33m(\u001b[0m\u001b[0mTypeError\u001b[0m\u001b[1;33m,\u001b[0m \u001b[0mNotImplementedError\u001b[0m\u001b[1;33m)\u001b[0m\u001b[1;33m:\u001b[0m\u001b[1;33m\u001b[0m\u001b[1;33m\u001b[0m\u001b[0m\n\u001b[0;32m    329\u001b[0m                 \u001b[1;32mif\u001b[0m \u001b[1;32mnot\u001b[0m \u001b[0mignore_failures\u001b[0m\u001b[1;33m:\u001b[0m\u001b[1;33m\u001b[0m\u001b[1;33m\u001b[0m\u001b[0m\n",
      "\u001b[1;32m~\\AppData\\Roaming\\Python\\Python38\\site-packages\\pandas\\core\\internals\\blocks.py\u001b[0m in \u001b[0;36mastype\u001b[1;34m(self, dtype, copy, errors)\u001b[0m\n\u001b[0;32m    589\u001b[0m         \u001b[0mvalues\u001b[0m \u001b[1;33m=\u001b[0m \u001b[0mself\u001b[0m\u001b[1;33m.\u001b[0m\u001b[0mvalues\u001b[0m\u001b[1;33m\u001b[0m\u001b[1;33m\u001b[0m\u001b[0m\n\u001b[0;32m    590\u001b[0m \u001b[1;33m\u001b[0m\u001b[0m\n\u001b[1;32m--> 591\u001b[1;33m         \u001b[0mnew_values\u001b[0m \u001b[1;33m=\u001b[0m \u001b[0mastype_array_safe\u001b[0m\u001b[1;33m(\u001b[0m\u001b[0mvalues\u001b[0m\u001b[1;33m,\u001b[0m \u001b[0mdtype\u001b[0m\u001b[1;33m,\u001b[0m \u001b[0mcopy\u001b[0m\u001b[1;33m=\u001b[0m\u001b[0mcopy\u001b[0m\u001b[1;33m,\u001b[0m \u001b[0merrors\u001b[0m\u001b[1;33m=\u001b[0m\u001b[0merrors\u001b[0m\u001b[1;33m)\u001b[0m\u001b[1;33m\u001b[0m\u001b[1;33m\u001b[0m\u001b[0m\n\u001b[0m\u001b[0;32m    592\u001b[0m \u001b[1;33m\u001b[0m\u001b[0m\n\u001b[0;32m    593\u001b[0m         \u001b[0mnew_values\u001b[0m \u001b[1;33m=\u001b[0m \u001b[0mmaybe_coerce_values\u001b[0m\u001b[1;33m(\u001b[0m\u001b[0mnew_values\u001b[0m\u001b[1;33m)\u001b[0m\u001b[1;33m\u001b[0m\u001b[1;33m\u001b[0m\u001b[0m\n",
      "\u001b[1;32m~\\AppData\\Roaming\\Python\\Python38\\site-packages\\pandas\\core\\dtypes\\cast.py\u001b[0m in \u001b[0;36mastype_array_safe\u001b[1;34m(values, dtype, copy, errors)\u001b[0m\n\u001b[0;32m   1307\u001b[0m \u001b[1;33m\u001b[0m\u001b[0m\n\u001b[0;32m   1308\u001b[0m     \u001b[1;32mtry\u001b[0m\u001b[1;33m:\u001b[0m\u001b[1;33m\u001b[0m\u001b[1;33m\u001b[0m\u001b[0m\n\u001b[1;32m-> 1309\u001b[1;33m         \u001b[0mnew_values\u001b[0m \u001b[1;33m=\u001b[0m \u001b[0mastype_array\u001b[0m\u001b[1;33m(\u001b[0m\u001b[0mvalues\u001b[0m\u001b[1;33m,\u001b[0m \u001b[0mdtype\u001b[0m\u001b[1;33m,\u001b[0m \u001b[0mcopy\u001b[0m\u001b[1;33m=\u001b[0m\u001b[0mcopy\u001b[0m\u001b[1;33m)\u001b[0m\u001b[1;33m\u001b[0m\u001b[1;33m\u001b[0m\u001b[0m\n\u001b[0m\u001b[0;32m   1310\u001b[0m     \u001b[1;32mexcept\u001b[0m \u001b[1;33m(\u001b[0m\u001b[0mValueError\u001b[0m\u001b[1;33m,\u001b[0m \u001b[0mTypeError\u001b[0m\u001b[1;33m)\u001b[0m\u001b[1;33m:\u001b[0m\u001b[1;33m\u001b[0m\u001b[1;33m\u001b[0m\u001b[0m\n\u001b[0;32m   1311\u001b[0m         \u001b[1;31m# e.g. astype_nansafe can fail on object-dtype of strings\u001b[0m\u001b[1;33m\u001b[0m\u001b[1;33m\u001b[0m\u001b[1;33m\u001b[0m\u001b[0m\n",
      "\u001b[1;32m~\\AppData\\Roaming\\Python\\Python38\\site-packages\\pandas\\core\\dtypes\\cast.py\u001b[0m in \u001b[0;36mastype_array\u001b[1;34m(values, dtype, copy)\u001b[0m\n\u001b[0;32m   1255\u001b[0m \u001b[1;33m\u001b[0m\u001b[0m\n\u001b[0;32m   1256\u001b[0m     \u001b[1;32melse\u001b[0m\u001b[1;33m:\u001b[0m\u001b[1;33m\u001b[0m\u001b[1;33m\u001b[0m\u001b[0m\n\u001b[1;32m-> 1257\u001b[1;33m         \u001b[0mvalues\u001b[0m \u001b[1;33m=\u001b[0m \u001b[0mastype_nansafe\u001b[0m\u001b[1;33m(\u001b[0m\u001b[0mvalues\u001b[0m\u001b[1;33m,\u001b[0m \u001b[0mdtype\u001b[0m\u001b[1;33m,\u001b[0m \u001b[0mcopy\u001b[0m\u001b[1;33m=\u001b[0m\u001b[0mcopy\u001b[0m\u001b[1;33m)\u001b[0m\u001b[1;33m\u001b[0m\u001b[1;33m\u001b[0m\u001b[0m\n\u001b[0m\u001b[0;32m   1258\u001b[0m \u001b[1;33m\u001b[0m\u001b[0m\n\u001b[0;32m   1259\u001b[0m     \u001b[1;31m# in pandas we don't store numpy str dtypes, so convert to object\u001b[0m\u001b[1;33m\u001b[0m\u001b[1;33m\u001b[0m\u001b[1;33m\u001b[0m\u001b[0m\n",
      "\u001b[1;32m~\\AppData\\Roaming\\Python\\Python38\\site-packages\\pandas\\core\\dtypes\\cast.py\u001b[0m in \u001b[0;36mastype_nansafe\u001b[1;34m(arr, dtype, copy, skipna)\u001b[0m\n\u001b[0;32m   1199\u001b[0m     \u001b[1;32mif\u001b[0m \u001b[0mcopy\u001b[0m \u001b[1;32mor\u001b[0m \u001b[0mis_object_dtype\u001b[0m\u001b[1;33m(\u001b[0m\u001b[0marr\u001b[0m\u001b[1;33m.\u001b[0m\u001b[0mdtype\u001b[0m\u001b[1;33m)\u001b[0m \u001b[1;32mor\u001b[0m \u001b[0mis_object_dtype\u001b[0m\u001b[1;33m(\u001b[0m\u001b[0mdtype\u001b[0m\u001b[1;33m)\u001b[0m\u001b[1;33m:\u001b[0m\u001b[1;33m\u001b[0m\u001b[1;33m\u001b[0m\u001b[0m\n\u001b[0;32m   1200\u001b[0m         \u001b[1;31m# Explicit copy, or required since NumPy can't view from / to object.\u001b[0m\u001b[1;33m\u001b[0m\u001b[1;33m\u001b[0m\u001b[1;33m\u001b[0m\u001b[0m\n\u001b[1;32m-> 1201\u001b[1;33m         \u001b[1;32mreturn\u001b[0m \u001b[0marr\u001b[0m\u001b[1;33m.\u001b[0m\u001b[0mastype\u001b[0m\u001b[1;33m(\u001b[0m\u001b[0mdtype\u001b[0m\u001b[1;33m,\u001b[0m \u001b[0mcopy\u001b[0m\u001b[1;33m=\u001b[0m\u001b[1;32mTrue\u001b[0m\u001b[1;33m)\u001b[0m\u001b[1;33m\u001b[0m\u001b[1;33m\u001b[0m\u001b[0m\n\u001b[0m\u001b[0;32m   1202\u001b[0m \u001b[1;33m\u001b[0m\u001b[0m\n\u001b[0;32m   1203\u001b[0m     \u001b[1;32mreturn\u001b[0m \u001b[0marr\u001b[0m\u001b[1;33m.\u001b[0m\u001b[0mastype\u001b[0m\u001b[1;33m(\u001b[0m\u001b[0mdtype\u001b[0m\u001b[1;33m,\u001b[0m \u001b[0mcopy\u001b[0m\u001b[1;33m=\u001b[0m\u001b[0mcopy\u001b[0m\u001b[1;33m)\u001b[0m\u001b[1;33m\u001b[0m\u001b[1;33m\u001b[0m\u001b[0m\n",
      "\u001b[1;31mValueError\u001b[0m: could not convert string to float: '-'"
     ]
    }
   ],
   "source": [
    "data['휘발유'] = data['휘발유'].astype(float)"
   ]
  },
  {
   "cell_type": "markdown",
   "id": "0810a9ef",
   "metadata": {},
   "source": [
    "값이 - 라고 표기된 경우가 있다는 것을 알 수 있다"
   ]
  },
  {
   "cell_type": "code",
   "execution_count": 10,
   "id": "e71c2730",
   "metadata": {},
   "outputs": [
    {
     "data": {
      "text/html": [
       "<div>\n",
       "<style scoped>\n",
       "    .dataframe tbody tr th:only-of-type {\n",
       "        vertical-align: middle;\n",
       "    }\n",
       "\n",
       "    .dataframe tbody tr th {\n",
       "        vertical-align: top;\n",
       "    }\n",
       "\n",
       "    .dataframe thead th {\n",
       "        text-align: right;\n",
       "    }\n",
       "</style>\n",
       "<table border=\"1\" class=\"dataframe\">\n",
       "  <thead>\n",
       "    <tr style=\"text-align: right;\">\n",
       "      <th></th>\n",
       "      <th>상호</th>\n",
       "      <th>주소</th>\n",
       "      <th>상표</th>\n",
       "      <th>셀프여부</th>\n",
       "      <th>휘발유</th>\n",
       "      <th>경유</th>\n",
       "      <th>구</th>\n",
       "    </tr>\n",
       "  </thead>\n",
       "  <tbody>\n",
       "    <tr>\n",
       "      <th>50</th>\n",
       "      <td>은마석유(주)직영 강서주유소</td>\n",
       "      <td>부산 강서구 공항로 483 (대저2동)</td>\n",
       "      <td>현대오일뱅크</td>\n",
       "      <td>Y</td>\n",
       "      <td>-</td>\n",
       "      <td>-</td>\n",
       "      <td>강서구</td>\n",
       "    </tr>\n",
       "    <tr>\n",
       "      <th>150</th>\n",
       "      <td>성지주유소</td>\n",
       "      <td>부산 남구 유엔로 42 (우암동)</td>\n",
       "      <td>SK에너지</td>\n",
       "      <td>N</td>\n",
       "      <td>-</td>\n",
       "      <td>-</td>\n",
       "      <td>남구</td>\n",
       "    </tr>\n",
       "    <tr>\n",
       "      <th>180</th>\n",
       "      <td>광신석유(주)직영 교대주유소</td>\n",
       "      <td>부산 동래구 여고로 131 (사직동)</td>\n",
       "      <td>SK에너지</td>\n",
       "      <td>N</td>\n",
       "      <td>-</td>\n",
       "      <td>-</td>\n",
       "      <td>동래구</td>\n",
       "    </tr>\n",
       "    <tr>\n",
       "      <th>204</th>\n",
       "      <td>당감주유소</td>\n",
       "      <td>부산 부산진구 동평로 49 (당감동)</td>\n",
       "      <td>SK에너지</td>\n",
       "      <td>N</td>\n",
       "      <td>-</td>\n",
       "      <td>-</td>\n",
       "      <td>부산진구</td>\n",
       "    </tr>\n",
       "    <tr>\n",
       "      <th>268</th>\n",
       "      <td>광신석유(주)직영 가야대로주유소</td>\n",
       "      <td>부산 사상구 가야대로 395</td>\n",
       "      <td>SK에너지</td>\n",
       "      <td>Y</td>\n",
       "      <td>-</td>\n",
       "      <td>-</td>\n",
       "      <td>사상구</td>\n",
       "    </tr>\n",
       "    <tr>\n",
       "      <th>269</th>\n",
       "      <td>광신석유(주)직영 학장주유소</td>\n",
       "      <td>부산 사상구 학장로 273 (학장동)</td>\n",
       "      <td>SK에너지</td>\n",
       "      <td>Y</td>\n",
       "      <td>-</td>\n",
       "      <td>-</td>\n",
       "      <td>사상구</td>\n",
       "    </tr>\n",
       "    <tr>\n",
       "      <th>270</th>\n",
       "      <td>서부산IC주유소</td>\n",
       "      <td>부산 사상구 학감대로 170</td>\n",
       "      <td>SK에너지</td>\n",
       "      <td>Y</td>\n",
       "      <td>-</td>\n",
       "      <td>-</td>\n",
       "      <td>사상구</td>\n",
       "    </tr>\n",
       "    <tr>\n",
       "      <th>344</th>\n",
       "      <td>연산주유소</td>\n",
       "      <td>부산 연제구 월드컵대로 60 (연산동)</td>\n",
       "      <td>현대오일뱅크</td>\n",
       "      <td>Y</td>\n",
       "      <td>-</td>\n",
       "      <td>-</td>\n",
       "      <td>연제구</td>\n",
       "    </tr>\n",
       "    <tr>\n",
       "      <th>393</th>\n",
       "      <td>백천주유소</td>\n",
       "      <td>부산광역시 해운대구  반송로 910 (반송제2동)</td>\n",
       "      <td>GS칼텍스</td>\n",
       "      <td>N</td>\n",
       "      <td>-</td>\n",
       "      <td>-</td>\n",
       "      <td>해운대구</td>\n",
       "    </tr>\n",
       "  </tbody>\n",
       "</table>\n",
       "</div>"
      ],
      "text/plain": [
       "                    상호                           주소      상표 셀프여부 휘발유 경유     구\n",
       "50     은마석유(주)직영 강서주유소        부산 강서구 공항로 483 (대저2동)  현대오일뱅크    Y   -  -   강서구\n",
       "150              성지주유소           부산 남구 유엔로 42 (우암동)   SK에너지    N   -  -    남구\n",
       "180    광신석유(주)직영 교대주유소         부산 동래구 여고로 131 (사직동)   SK에너지    N   -  -   동래구\n",
       "204              당감주유소         부산 부산진구 동평로 49 (당감동)   SK에너지    N   -  -  부산진구\n",
       "268  광신석유(주)직영 가야대로주유소              부산 사상구 가야대로 395   SK에너지    Y   -  -   사상구\n",
       "269    광신석유(주)직영 학장주유소         부산 사상구 학장로 273 (학장동)   SK에너지    Y   -  -   사상구\n",
       "270           서부산IC주유소              부산 사상구 학감대로 170   SK에너지    Y   -  -   사상구\n",
       "344              연산주유소        부산 연제구 월드컵대로 60 (연산동)  현대오일뱅크    Y   -  -   연제구\n",
       "393              백천주유소  부산광역시 해운대구  반송로 910 (반송제2동)   GS칼텍스    N   -  -  해운대구"
      ]
     },
     "execution_count": 10,
     "metadata": {},
     "output_type": "execute_result"
    }
   ],
   "source": [
    "data[data['휘발유'] == '-']"
   ]
  },
  {
   "cell_type": "code",
   "execution_count": 11,
   "id": "2d6f0461",
   "metadata": {},
   "outputs": [
    {
     "data": {
      "text/html": [
       "<div>\n",
       "<style scoped>\n",
       "    .dataframe tbody tr th:only-of-type {\n",
       "        vertical-align: middle;\n",
       "    }\n",
       "\n",
       "    .dataframe tbody tr th {\n",
       "        vertical-align: top;\n",
       "    }\n",
       "\n",
       "    .dataframe thead th {\n",
       "        text-align: right;\n",
       "    }\n",
       "</style>\n",
       "<table border=\"1\" class=\"dataframe\">\n",
       "  <thead>\n",
       "    <tr style=\"text-align: right;\">\n",
       "      <th></th>\n",
       "      <th>상호</th>\n",
       "      <th>주소</th>\n",
       "      <th>상표</th>\n",
       "      <th>셀프여부</th>\n",
       "      <th>휘발유</th>\n",
       "      <th>경유</th>\n",
       "      <th>구</th>\n",
       "    </tr>\n",
       "  </thead>\n",
       "  <tbody>\n",
       "    <tr>\n",
       "      <th>50</th>\n",
       "      <td>은마석유(주)직영 강서주유소</td>\n",
       "      <td>부산 강서구 공항로 483 (대저2동)</td>\n",
       "      <td>현대오일뱅크</td>\n",
       "      <td>Y</td>\n",
       "      <td>-</td>\n",
       "      <td>-</td>\n",
       "      <td>강서구</td>\n",
       "    </tr>\n",
       "    <tr>\n",
       "      <th>150</th>\n",
       "      <td>성지주유소</td>\n",
       "      <td>부산 남구 유엔로 42 (우암동)</td>\n",
       "      <td>SK에너지</td>\n",
       "      <td>N</td>\n",
       "      <td>-</td>\n",
       "      <td>-</td>\n",
       "      <td>남구</td>\n",
       "    </tr>\n",
       "    <tr>\n",
       "      <th>180</th>\n",
       "      <td>광신석유(주)직영 교대주유소</td>\n",
       "      <td>부산 동래구 여고로 131 (사직동)</td>\n",
       "      <td>SK에너지</td>\n",
       "      <td>N</td>\n",
       "      <td>-</td>\n",
       "      <td>-</td>\n",
       "      <td>동래구</td>\n",
       "    </tr>\n",
       "    <tr>\n",
       "      <th>204</th>\n",
       "      <td>당감주유소</td>\n",
       "      <td>부산 부산진구 동평로 49 (당감동)</td>\n",
       "      <td>SK에너지</td>\n",
       "      <td>N</td>\n",
       "      <td>-</td>\n",
       "      <td>-</td>\n",
       "      <td>부산진구</td>\n",
       "    </tr>\n",
       "    <tr>\n",
       "      <th>268</th>\n",
       "      <td>광신석유(주)직영 가야대로주유소</td>\n",
       "      <td>부산 사상구 가야대로 395</td>\n",
       "      <td>SK에너지</td>\n",
       "      <td>Y</td>\n",
       "      <td>-</td>\n",
       "      <td>-</td>\n",
       "      <td>사상구</td>\n",
       "    </tr>\n",
       "    <tr>\n",
       "      <th>269</th>\n",
       "      <td>광신석유(주)직영 학장주유소</td>\n",
       "      <td>부산 사상구 학장로 273 (학장동)</td>\n",
       "      <td>SK에너지</td>\n",
       "      <td>Y</td>\n",
       "      <td>-</td>\n",
       "      <td>-</td>\n",
       "      <td>사상구</td>\n",
       "    </tr>\n",
       "    <tr>\n",
       "      <th>270</th>\n",
       "      <td>서부산IC주유소</td>\n",
       "      <td>부산 사상구 학감대로 170</td>\n",
       "      <td>SK에너지</td>\n",
       "      <td>Y</td>\n",
       "      <td>-</td>\n",
       "      <td>-</td>\n",
       "      <td>사상구</td>\n",
       "    </tr>\n",
       "    <tr>\n",
       "      <th>344</th>\n",
       "      <td>연산주유소</td>\n",
       "      <td>부산 연제구 월드컵대로 60 (연산동)</td>\n",
       "      <td>현대오일뱅크</td>\n",
       "      <td>Y</td>\n",
       "      <td>-</td>\n",
       "      <td>-</td>\n",
       "      <td>연제구</td>\n",
       "    </tr>\n",
       "    <tr>\n",
       "      <th>393</th>\n",
       "      <td>백천주유소</td>\n",
       "      <td>부산광역시 해운대구  반송로 910 (반송제2동)</td>\n",
       "      <td>GS칼텍스</td>\n",
       "      <td>N</td>\n",
       "      <td>-</td>\n",
       "      <td>-</td>\n",
       "      <td>해운대구</td>\n",
       "    </tr>\n",
       "  </tbody>\n",
       "</table>\n",
       "</div>"
      ],
      "text/plain": [
       "                    상호                           주소      상표 셀프여부 휘발유 경유     구\n",
       "50     은마석유(주)직영 강서주유소        부산 강서구 공항로 483 (대저2동)  현대오일뱅크    Y   -  -   강서구\n",
       "150              성지주유소           부산 남구 유엔로 42 (우암동)   SK에너지    N   -  -    남구\n",
       "180    광신석유(주)직영 교대주유소         부산 동래구 여고로 131 (사직동)   SK에너지    N   -  -   동래구\n",
       "204              당감주유소         부산 부산진구 동평로 49 (당감동)   SK에너지    N   -  -  부산진구\n",
       "268  광신석유(주)직영 가야대로주유소              부산 사상구 가야대로 395   SK에너지    Y   -  -   사상구\n",
       "269    광신석유(주)직영 학장주유소         부산 사상구 학장로 273 (학장동)   SK에너지    Y   -  -   사상구\n",
       "270           서부산IC주유소              부산 사상구 학감대로 170   SK에너지    Y   -  -   사상구\n",
       "344              연산주유소        부산 연제구 월드컵대로 60 (연산동)  현대오일뱅크    Y   -  -   연제구\n",
       "393              백천주유소  부산광역시 해운대구  반송로 910 (반송제2동)   GS칼텍스    N   -  -  해운대구"
      ]
     },
     "execution_count": 11,
     "metadata": {},
     "output_type": "execute_result"
    }
   ],
   "source": [
    "data[data['경유'] == '-']"
   ]
  },
  {
   "cell_type": "markdown",
   "id": "1c8a7d65",
   "metadata": {},
   "source": [
    "휘발유 가격이 - 인 행"
   ]
  },
  {
   "cell_type": "code",
   "execution_count": 12,
   "id": "c6d91ee3",
   "metadata": {},
   "outputs": [
    {
     "name": "stdout",
     "output_type": "stream",
     "text": [
      "Int64Index([50, 150, 180, 204, 268, 269, 270, 344, 393], dtype='int64')\n"
     ]
    }
   ],
   "source": [
    "error = data[data['휘발유'] == '-'].index\n",
    "print(error)"
   ]
  },
  {
   "cell_type": "markdown",
   "id": "4ecae2a5",
   "metadata": {},
   "source": [
    "휘발유 가격이 -인 행 제거해서 새로운 데이터프레임으로 저장"
   ]
  },
  {
   "cell_type": "code",
   "execution_count": 16,
   "id": "8270e5fc",
   "metadata": {},
   "outputs": [
    {
     "data": {
      "text/html": [
       "<div>\n",
       "<style scoped>\n",
       "    .dataframe tbody tr th:only-of-type {\n",
       "        vertical-align: middle;\n",
       "    }\n",
       "\n",
       "    .dataframe tbody tr th {\n",
       "        vertical-align: top;\n",
       "    }\n",
       "\n",
       "    .dataframe thead th {\n",
       "        text-align: right;\n",
       "    }\n",
       "</style>\n",
       "<table border=\"1\" class=\"dataframe\">\n",
       "  <thead>\n",
       "    <tr style=\"text-align: right;\">\n",
       "      <th></th>\n",
       "      <th>상호</th>\n",
       "      <th>주소</th>\n",
       "      <th>상표</th>\n",
       "      <th>셀프여부</th>\n",
       "      <th>휘발유</th>\n",
       "      <th>경유</th>\n",
       "      <th>구</th>\n",
       "    </tr>\n",
       "  </thead>\n",
       "  <tbody>\n",
       "    <tr>\n",
       "      <th>0</th>\n",
       "      <td>부산축산농협주유소</td>\n",
       "      <td>부산 강서구 낙동남로 448 (녹산동)</td>\n",
       "      <td>NH-OIL</td>\n",
       "      <td>N</td>\n",
       "      <td>1549</td>\n",
       "      <td>1349</td>\n",
       "      <td>강서구</td>\n",
       "    </tr>\n",
       "    <tr>\n",
       "      <th>1</th>\n",
       "      <td>공항대로주유소</td>\n",
       "      <td>부산 강서구 공항로 1217 (대저1동)</td>\n",
       "      <td>알뜰주유소</td>\n",
       "      <td>Y</td>\n",
       "      <td>1558</td>\n",
       "      <td>1368</td>\n",
       "      <td>강서구</td>\n",
       "    </tr>\n",
       "    <tr>\n",
       "      <th>2</th>\n",
       "      <td>우리들주유소</td>\n",
       "      <td>부산 강서구 낙동남로 667 (녹산동)</td>\n",
       "      <td>알뜰주유소</td>\n",
       "      <td>Y</td>\n",
       "      <td>1559</td>\n",
       "      <td>1359</td>\n",
       "      <td>강서구</td>\n",
       "    </tr>\n",
       "    <tr>\n",
       "      <th>3</th>\n",
       "      <td>(주)시큐 국제산단주유소</td>\n",
       "      <td>부산 강서구 생곡로 272</td>\n",
       "      <td>GS칼텍스</td>\n",
       "      <td>Y</td>\n",
       "      <td>1559</td>\n",
       "      <td>1359</td>\n",
       "      <td>강서구</td>\n",
       "    </tr>\n",
       "    <tr>\n",
       "      <th>4</th>\n",
       "      <td>김해공항주유소</td>\n",
       "      <td>부산 강서구 공항진입로 25 (대저2동)</td>\n",
       "      <td>GS칼텍스</td>\n",
       "      <td>Y</td>\n",
       "      <td>1568</td>\n",
       "      <td>1389</td>\n",
       "      <td>강서구</td>\n",
       "    </tr>\n",
       "    <tr>\n",
       "      <th>...</th>\n",
       "      <td>...</td>\n",
       "      <td>...</td>\n",
       "      <td>...</td>\n",
       "      <td>...</td>\n",
       "      <td>...</td>\n",
       "      <td>...</td>\n",
       "      <td>...</td>\n",
       "    </tr>\n",
       "    <tr>\n",
       "      <th>388</th>\n",
       "      <td>SK에너지(주) 마리나주유소</td>\n",
       "      <td>부산 해운대구 해운대로 345 (우동)</td>\n",
       "      <td>SK에너지</td>\n",
       "      <td>Y</td>\n",
       "      <td>1639</td>\n",
       "      <td>1449</td>\n",
       "      <td>해운대구</td>\n",
       "    </tr>\n",
       "    <tr>\n",
       "      <th>389</th>\n",
       "      <td>SK에너지(주)신도시주유소</td>\n",
       "      <td>부산 해운대구 대천로 82 (좌동)</td>\n",
       "      <td>SK에너지</td>\n",
       "      <td>Y</td>\n",
       "      <td>1649</td>\n",
       "      <td>1459</td>\n",
       "      <td>해운대구</td>\n",
       "    </tr>\n",
       "    <tr>\n",
       "      <th>390</th>\n",
       "      <td>SK에너지(주) 돌고래주유소</td>\n",
       "      <td>부산 해운대구 해운대로573번길 16</td>\n",
       "      <td>SK에너지</td>\n",
       "      <td>N</td>\n",
       "      <td>1659</td>\n",
       "      <td>1459</td>\n",
       "      <td>해운대구</td>\n",
       "    </tr>\n",
       "    <tr>\n",
       "      <th>391</th>\n",
       "      <td>지에스칼텍스(주)해운대중동주유소</td>\n",
       "      <td>부산 해운대구 좌동로 34 (중동)</td>\n",
       "      <td>GS칼텍스</td>\n",
       "      <td>Y</td>\n",
       "      <td>1659</td>\n",
       "      <td>1469</td>\n",
       "      <td>해운대구</td>\n",
       "    </tr>\n",
       "    <tr>\n",
       "      <th>392</th>\n",
       "      <td>에스씨(주) 마리나타운주유소</td>\n",
       "      <td>부산 해운대구 해운대해변로 44 (우동)</td>\n",
       "      <td>GS칼텍스</td>\n",
       "      <td>N</td>\n",
       "      <td>1698</td>\n",
       "      <td>1528</td>\n",
       "      <td>해운대구</td>\n",
       "    </tr>\n",
       "  </tbody>\n",
       "</table>\n",
       "<p>385 rows × 7 columns</p>\n",
       "</div>"
      ],
      "text/plain": [
       "                    상호                      주소      상표 셀프여부   휘발유    경유     구\n",
       "0            부산축산농협주유소   부산 강서구 낙동남로 448 (녹산동)  NH-OIL    N  1549  1349   강서구\n",
       "1              공항대로주유소  부산 강서구 공항로 1217 (대저1동)   알뜰주유소    Y  1558  1368   강서구\n",
       "2               우리들주유소   부산 강서구 낙동남로 667 (녹산동)   알뜰주유소    Y  1559  1359   강서구\n",
       "3        (주)시큐 국제산단주유소          부산 강서구 생곡로 272   GS칼텍스    Y  1559  1359   강서구\n",
       "4              김해공항주유소  부산 강서구 공항진입로 25 (대저2동)   GS칼텍스    Y  1568  1389   강서구\n",
       "..                 ...                     ...     ...  ...   ...   ...   ...\n",
       "388    SK에너지(주) 마리나주유소   부산 해운대구 해운대로 345 (우동)   SK에너지    Y  1639  1449  해운대구\n",
       "389     SK에너지(주)신도시주유소     부산 해운대구 대천로 82 (좌동)   SK에너지    Y  1649  1459  해운대구\n",
       "390    SK에너지(주) 돌고래주유소    부산 해운대구 해운대로573번길 16   SK에너지    N  1659  1459  해운대구\n",
       "391  지에스칼텍스(주)해운대중동주유소     부산 해운대구 좌동로 34 (중동)   GS칼텍스    Y  1659  1469  해운대구\n",
       "392    에스씨(주) 마리나타운주유소  부산 해운대구 해운대해변로 44 (우동)   GS칼텍스    N  1698  1528  해운대구\n",
       "\n",
       "[385 rows x 7 columns]"
      ]
     },
     "execution_count": 16,
     "metadata": {},
     "output_type": "execute_result"
    }
   ],
   "source": [
    "data1 = data.drop(error)\n",
    "data1"
   ]
  },
  {
   "cell_type": "markdown",
   "id": "20537d89",
   "metadata": {},
   "source": [
    "경유 가격이 -인 행"
   ]
  },
  {
   "cell_type": "code",
   "execution_count": 17,
   "id": "40d69c52",
   "metadata": {},
   "outputs": [
    {
     "name": "stdout",
     "output_type": "stream",
     "text": [
      "Int64Index([], dtype='int64')\n"
     ]
    }
   ],
   "source": [
    "error2 = data1[data1['경유'] == '-'].index\n",
    "print(error2)"
   ]
  },
  {
   "cell_type": "markdown",
   "id": "1679ca1c",
   "metadata": {},
   "source": [
    "휘발유 가격이 -인 행을 제거하니 경유 가격이 -인 행은 없다는 것을 확인할 수 있다. (둘 다 동일한 곳에서 가격이 없었다는 뜻)"
   ]
  },
  {
   "cell_type": "markdown",
   "id": "1285fec8",
   "metadata": {},
   "source": [
    "다시 휘발유와 경유를 숫자형으로 변환"
   ]
  },
  {
   "cell_type": "code",
   "execution_count": 29,
   "id": "3ad7feaa",
   "metadata": {},
   "outputs": [],
   "source": [
    "data1['휘발유'] = data1['휘발유'].astype(float)\n",
    "data1['경유'] = data1['경유'].astype(float)"
   ]
  },
  {
   "cell_type": "code",
   "execution_count": 19,
   "id": "7073e7ff",
   "metadata": {},
   "outputs": [
    {
     "name": "stdout",
     "output_type": "stream",
     "text": [
      "<class 'pandas.core.frame.DataFrame'>\n",
      "Int64Index: 385 entries, 0 to 392\n",
      "Data columns (total 7 columns):\n",
      " #   Column  Non-Null Count  Dtype  \n",
      "---  ------  --------------  -----  \n",
      " 0   상호      385 non-null    object \n",
      " 1   주소      385 non-null    object \n",
      " 2   상표      385 non-null    object \n",
      " 3   셀프여부    385 non-null    object \n",
      " 4   휘발유     385 non-null    float64\n",
      " 5   경유      385 non-null    float64\n",
      " 6   구       385 non-null    object \n",
      "dtypes: float64(2), object(5)\n",
      "memory usage: 24.1+ KB\n"
     ]
    }
   ],
   "source": [
    "data1.info()"
   ]
  },
  {
   "cell_type": "markdown",
   "id": "2c81ea18",
   "metadata": {},
   "source": [
    "데이터 전처리 끝"
   ]
  },
  {
   "cell_type": "markdown",
   "id": "a11ea598",
   "metadata": {},
   "source": [
    "### 질문"
   ]
  },
  {
   "cell_type": "markdown",
   "id": "540dfcdf",
   "metadata": {},
   "source": [
    "### 1. 부산 지역에서는 해운대구의 기름이 가장 비쌀 것이다.(해운대구가 전체적으로 물가가 비싼 이미지)<br>\n",
    "▶부산 지역에서 어떤 구가 제일 가격이 저렴한지"
   ]
  },
  {
   "cell_type": "markdown",
   "id": "75dc8e91",
   "metadata": {},
   "source": [
    "* 구 별로 휘발유 평균 구하기"
   ]
  },
  {
   "cell_type": "code",
   "execution_count": 82,
   "id": "3ee2a1d2",
   "metadata": {},
   "outputs": [
    {
     "data": {
      "text/html": [
       "<div>\n",
       "<style scoped>\n",
       "    .dataframe tbody tr th:only-of-type {\n",
       "        vertical-align: middle;\n",
       "    }\n",
       "\n",
       "    .dataframe tbody tr th {\n",
       "        vertical-align: top;\n",
       "    }\n",
       "\n",
       "    .dataframe thead th {\n",
       "        text-align: right;\n",
       "    }\n",
       "</style>\n",
       "<table border=\"1\" class=\"dataframe\">\n",
       "  <thead>\n",
       "    <tr style=\"text-align: right;\">\n",
       "      <th></th>\n",
       "      <th>구</th>\n",
       "      <th>휘발유평균</th>\n",
       "    </tr>\n",
       "  </thead>\n",
       "  <tbody>\n",
       "    <tr>\n",
       "      <th>0</th>\n",
       "      <td>강서구</td>\n",
       "      <td>1597.860000</td>\n",
       "    </tr>\n",
       "    <tr>\n",
       "      <th>1</th>\n",
       "      <td>금정구</td>\n",
       "      <td>1599.045455</td>\n",
       "    </tr>\n",
       "    <tr>\n",
       "      <th>2</th>\n",
       "      <td>기장군</td>\n",
       "      <td>1570.043478</td>\n",
       "    </tr>\n",
       "    <tr>\n",
       "      <th>3</th>\n",
       "      <td>남구</td>\n",
       "      <td>1593.193548</td>\n",
       "    </tr>\n",
       "    <tr>\n",
       "      <th>4</th>\n",
       "      <td>동구</td>\n",
       "      <td>1616.000000</td>\n",
       "    </tr>\n",
       "    <tr>\n",
       "      <th>5</th>\n",
       "      <td>동래구</td>\n",
       "      <td>1580.052632</td>\n",
       "    </tr>\n",
       "    <tr>\n",
       "      <th>6</th>\n",
       "      <td>부산진구</td>\n",
       "      <td>1590.521739</td>\n",
       "    </tr>\n",
       "    <tr>\n",
       "      <th>7</th>\n",
       "      <td>북구</td>\n",
       "      <td>1571.000000</td>\n",
       "    </tr>\n",
       "    <tr>\n",
       "      <th>8</th>\n",
       "      <td>사상구</td>\n",
       "      <td>1591.911111</td>\n",
       "    </tr>\n",
       "    <tr>\n",
       "      <th>9</th>\n",
       "      <td>사하구</td>\n",
       "      <td>1594.593750</td>\n",
       "    </tr>\n",
       "    <tr>\n",
       "      <th>10</th>\n",
       "      <td>서구</td>\n",
       "      <td>1586.900000</td>\n",
       "    </tr>\n",
       "    <tr>\n",
       "      <th>11</th>\n",
       "      <td>수영구</td>\n",
       "      <td>1607.375000</td>\n",
       "    </tr>\n",
       "    <tr>\n",
       "      <th>12</th>\n",
       "      <td>연제구</td>\n",
       "      <td>1587.133333</td>\n",
       "    </tr>\n",
       "    <tr>\n",
       "      <th>13</th>\n",
       "      <td>영도구</td>\n",
       "      <td>1665.000000</td>\n",
       "    </tr>\n",
       "    <tr>\n",
       "      <th>14</th>\n",
       "      <td>중구</td>\n",
       "      <td>1621.500000</td>\n",
       "    </tr>\n",
       "    <tr>\n",
       "      <th>15</th>\n",
       "      <td>해운대구</td>\n",
       "      <td>1597.250000</td>\n",
       "    </tr>\n",
       "  </tbody>\n",
       "</table>\n",
       "</div>"
      ],
      "text/plain": [
       "       구        휘발유평균\n",
       "0    강서구  1597.860000\n",
       "1    금정구  1599.045455\n",
       "2    기장군  1570.043478\n",
       "3     남구  1593.193548\n",
       "4     동구  1616.000000\n",
       "5    동래구  1580.052632\n",
       "6   부산진구  1590.521739\n",
       "7     북구  1571.000000\n",
       "8    사상구  1591.911111\n",
       "9    사하구  1594.593750\n",
       "10    서구  1586.900000\n",
       "11   수영구  1607.375000\n",
       "12   연제구  1587.133333\n",
       "13   영도구  1665.000000\n",
       "14    중구  1621.500000\n",
       "15  해운대구  1597.250000"
      ]
     },
     "execution_count": 82,
     "metadata": {},
     "output_type": "execute_result"
    }
   ],
   "source": [
    "data_gas = data1.groupby('구')['휘발유'].agg(**{'휘발유평균':'mean'}).reset_index()\n",
    "data_gas"
   ]
  },
  {
   "cell_type": "markdown",
   "id": "e45b8190",
   "metadata": {},
   "source": [
    "오름차순으로 나열해서 가장 비싼 구부터 싼 구 순으로 표시"
   ]
  },
  {
   "cell_type": "code",
   "execution_count": 106,
   "id": "355efe6d",
   "metadata": {},
   "outputs": [
    {
     "data": {
      "text/html": [
       "<div>\n",
       "<style scoped>\n",
       "    .dataframe tbody tr th:only-of-type {\n",
       "        vertical-align: middle;\n",
       "    }\n",
       "\n",
       "    .dataframe tbody tr th {\n",
       "        vertical-align: top;\n",
       "    }\n",
       "\n",
       "    .dataframe thead th {\n",
       "        text-align: right;\n",
       "    }\n",
       "</style>\n",
       "<table border=\"1\" class=\"dataframe\">\n",
       "  <thead>\n",
       "    <tr style=\"text-align: right;\">\n",
       "      <th></th>\n",
       "      <th>구</th>\n",
       "      <th>휘발유평균</th>\n",
       "    </tr>\n",
       "  </thead>\n",
       "  <tbody>\n",
       "    <tr>\n",
       "      <th>13</th>\n",
       "      <td>영도구</td>\n",
       "      <td>1665.000000</td>\n",
       "    </tr>\n",
       "    <tr>\n",
       "      <th>14</th>\n",
       "      <td>중구</td>\n",
       "      <td>1621.500000</td>\n",
       "    </tr>\n",
       "    <tr>\n",
       "      <th>4</th>\n",
       "      <td>동구</td>\n",
       "      <td>1616.000000</td>\n",
       "    </tr>\n",
       "    <tr>\n",
       "      <th>11</th>\n",
       "      <td>수영구</td>\n",
       "      <td>1607.375000</td>\n",
       "    </tr>\n",
       "    <tr>\n",
       "      <th>1</th>\n",
       "      <td>금정구</td>\n",
       "      <td>1599.045455</td>\n",
       "    </tr>\n",
       "    <tr>\n",
       "      <th>0</th>\n",
       "      <td>강서구</td>\n",
       "      <td>1597.860000</td>\n",
       "    </tr>\n",
       "    <tr>\n",
       "      <th>15</th>\n",
       "      <td>해운대구</td>\n",
       "      <td>1597.250000</td>\n",
       "    </tr>\n",
       "    <tr>\n",
       "      <th>9</th>\n",
       "      <td>사하구</td>\n",
       "      <td>1594.593750</td>\n",
       "    </tr>\n",
       "    <tr>\n",
       "      <th>3</th>\n",
       "      <td>남구</td>\n",
       "      <td>1593.193548</td>\n",
       "    </tr>\n",
       "    <tr>\n",
       "      <th>8</th>\n",
       "      <td>사상구</td>\n",
       "      <td>1591.911111</td>\n",
       "    </tr>\n",
       "    <tr>\n",
       "      <th>6</th>\n",
       "      <td>부산진구</td>\n",
       "      <td>1590.521739</td>\n",
       "    </tr>\n",
       "    <tr>\n",
       "      <th>12</th>\n",
       "      <td>연제구</td>\n",
       "      <td>1587.133333</td>\n",
       "    </tr>\n",
       "    <tr>\n",
       "      <th>10</th>\n",
       "      <td>서구</td>\n",
       "      <td>1586.900000</td>\n",
       "    </tr>\n",
       "    <tr>\n",
       "      <th>5</th>\n",
       "      <td>동래구</td>\n",
       "      <td>1580.052632</td>\n",
       "    </tr>\n",
       "    <tr>\n",
       "      <th>7</th>\n",
       "      <td>북구</td>\n",
       "      <td>1571.000000</td>\n",
       "    </tr>\n",
       "    <tr>\n",
       "      <th>2</th>\n",
       "      <td>기장군</td>\n",
       "      <td>1570.043478</td>\n",
       "    </tr>\n",
       "  </tbody>\n",
       "</table>\n",
       "</div>"
      ],
      "text/plain": [
       "       구        휘발유평균\n",
       "13   영도구  1665.000000\n",
       "14    중구  1621.500000\n",
       "4     동구  1616.000000\n",
       "11   수영구  1607.375000\n",
       "1    금정구  1599.045455\n",
       "0    강서구  1597.860000\n",
       "15  해운대구  1597.250000\n",
       "9    사하구  1594.593750\n",
       "3     남구  1593.193548\n",
       "8    사상구  1591.911111\n",
       "6   부산진구  1590.521739\n",
       "12   연제구  1587.133333\n",
       "10    서구  1586.900000\n",
       "5    동래구  1580.052632\n",
       "7     북구  1571.000000\n",
       "2    기장군  1570.043478"
      ]
     },
     "execution_count": 106,
     "metadata": {},
     "output_type": "execute_result"
    }
   ],
   "source": [
    "data_gas = data_gas.sort_values(by='휘발유평균', ascending=False)\n",
    "data_gas"
   ]
  },
  {
   "cell_type": "code",
   "execution_count": 146,
   "id": "7cddc8dc",
   "metadata": {},
   "outputs": [
    {
     "data": {
      "image/png": "[encoded data removed]",
      "text/plain": [
       "<Figure size 648x576 with 1 Axes>"
      ]
     },
     "metadata": {
      "needs_background": "light"
     },
     "output_type": "display_data"
    }
   ],
   "source": [
    "import matplotlib.pyplot as plt\n",
    "data_gas.plot(x='구', y='휘발유평균', kind=\"bar\",figsize=(9,8)) #x축, y축\n",
    "plt.title('부산시 구 별 휘발유 평균 가격')\n",
    "plt.show()"
   ]
  },
  {
   "cell_type": "markdown",
   "id": "10b5c5fa",
   "metadata": {},
   "source": [
    "#### 가장 비싼 곳은 영도구, 가장 싼 곳은 기장군. 해운대구는 중간 정도였다."
   ]
  },
  {
   "cell_type": "markdown",
   "id": "dca1c3ef",
   "metadata": {},
   "source": [
    "* 구 별로 경유 평균 구하기"
   ]
  },
  {
   "cell_type": "code",
   "execution_count": 108,
   "id": "0bdb9e3f",
   "metadata": {},
   "outputs": [
    {
     "data": {
      "text/html": [
       "<div>\n",
       "<style scoped>\n",
       "    .dataframe tbody tr th:only-of-type {\n",
       "        vertical-align: middle;\n",
       "    }\n",
       "\n",
       "    .dataframe tbody tr th {\n",
       "        vertical-align: top;\n",
       "    }\n",
       "\n",
       "    .dataframe thead th {\n",
       "        text-align: right;\n",
       "    }\n",
       "</style>\n",
       "<table border=\"1\" class=\"dataframe\">\n",
       "  <thead>\n",
       "    <tr style=\"text-align: right;\">\n",
       "      <th></th>\n",
       "      <th>구</th>\n",
       "      <th>경유평균</th>\n",
       "    </tr>\n",
       "  </thead>\n",
       "  <tbody>\n",
       "    <tr>\n",
       "      <th>0</th>\n",
       "      <td>강서구</td>\n",
       "      <td>1404.700000</td>\n",
       "    </tr>\n",
       "    <tr>\n",
       "      <th>1</th>\n",
       "      <td>금정구</td>\n",
       "      <td>1435.636364</td>\n",
       "    </tr>\n",
       "    <tr>\n",
       "      <th>2</th>\n",
       "      <td>기장군</td>\n",
       "      <td>1402.369565</td>\n",
       "    </tr>\n",
       "    <tr>\n",
       "      <th>3</th>\n",
       "      <td>남구</td>\n",
       "      <td>1427.096774</td>\n",
       "    </tr>\n",
       "    <tr>\n",
       "      <th>4</th>\n",
       "      <td>동구</td>\n",
       "      <td>1412.400000</td>\n",
       "    </tr>\n",
       "    <tr>\n",
       "      <th>5</th>\n",
       "      <td>동래구</td>\n",
       "      <td>1412.736842</td>\n",
       "    </tr>\n",
       "    <tr>\n",
       "      <th>6</th>\n",
       "      <td>부산진구</td>\n",
       "      <td>1410.956522</td>\n",
       "    </tr>\n",
       "    <tr>\n",
       "      <th>7</th>\n",
       "      <td>북구</td>\n",
       "      <td>1397.111111</td>\n",
       "    </tr>\n",
       "    <tr>\n",
       "      <th>8</th>\n",
       "      <td>사상구</td>\n",
       "      <td>1418.066667</td>\n",
       "    </tr>\n",
       "    <tr>\n",
       "      <th>9</th>\n",
       "      <td>사하구</td>\n",
       "      <td>1404.593750</td>\n",
       "    </tr>\n",
       "    <tr>\n",
       "      <th>10</th>\n",
       "      <td>서구</td>\n",
       "      <td>1403.200000</td>\n",
       "    </tr>\n",
       "    <tr>\n",
       "      <th>11</th>\n",
       "      <td>수영구</td>\n",
       "      <td>1442.375000</td>\n",
       "    </tr>\n",
       "    <tr>\n",
       "      <th>12</th>\n",
       "      <td>연제구</td>\n",
       "      <td>1413.333333</td>\n",
       "    </tr>\n",
       "    <tr>\n",
       "      <th>13</th>\n",
       "      <td>영도구</td>\n",
       "      <td>1510.000000</td>\n",
       "    </tr>\n",
       "    <tr>\n",
       "      <th>14</th>\n",
       "      <td>중구</td>\n",
       "      <td>1441.500000</td>\n",
       "    </tr>\n",
       "    <tr>\n",
       "      <th>15</th>\n",
       "      <td>해운대구</td>\n",
       "      <td>1425.833333</td>\n",
       "    </tr>\n",
       "  </tbody>\n",
       "</table>\n",
       "</div>"
      ],
      "text/plain": [
       "       구         경유평균\n",
       "0    강서구  1404.700000\n",
       "1    금정구  1435.636364\n",
       "2    기장군  1402.369565\n",
       "3     남구  1427.096774\n",
       "4     동구  1412.400000\n",
       "5    동래구  1412.736842\n",
       "6   부산진구  1410.956522\n",
       "7     북구  1397.111111\n",
       "8    사상구  1418.066667\n",
       "9    사하구  1404.593750\n",
       "10    서구  1403.200000\n",
       "11   수영구  1442.375000\n",
       "12   연제구  1413.333333\n",
       "13   영도구  1510.000000\n",
       "14    중구  1441.500000\n",
       "15  해운대구  1425.833333"
      ]
     },
     "execution_count": 108,
     "metadata": {},
     "output_type": "execute_result"
    }
   ],
   "source": [
    "data_diesel = data1.groupby('구')['경유'].agg(**{'경유평균':'mean'}).reset_index()\n",
    "data_diesel"
   ]
  },
  {
   "cell_type": "markdown",
   "id": "c345967b",
   "metadata": {},
   "source": [
    "오름차순으로 나열해서 가장 비싼 구부터 싼 구 순으로 표시"
   ]
  },
  {
   "cell_type": "code",
   "execution_count": 110,
   "id": "57151bd0",
   "metadata": {},
   "outputs": [
    {
     "data": {
      "text/html": [
       "<div>\n",
       "<style scoped>\n",
       "    .dataframe tbody tr th:only-of-type {\n",
       "        vertical-align: middle;\n",
       "    }\n",
       "\n",
       "    .dataframe tbody tr th {\n",
       "        vertical-align: top;\n",
       "    }\n",
       "\n",
       "    .dataframe thead th {\n",
       "        text-align: right;\n",
       "    }\n",
       "</style>\n",
       "<table border=\"1\" class=\"dataframe\">\n",
       "  <thead>\n",
       "    <tr style=\"text-align: right;\">\n",
       "      <th></th>\n",
       "      <th>구</th>\n",
       "      <th>경유평균</th>\n",
       "    </tr>\n",
       "  </thead>\n",
       "  <tbody>\n",
       "    <tr>\n",
       "      <th>13</th>\n",
       "      <td>영도구</td>\n",
       "      <td>1510.000000</td>\n",
       "    </tr>\n",
       "    <tr>\n",
       "      <th>11</th>\n",
       "      <td>수영구</td>\n",
       "      <td>1442.375000</td>\n",
       "    </tr>\n",
       "    <tr>\n",
       "      <th>14</th>\n",
       "      <td>중구</td>\n",
       "      <td>1441.500000</td>\n",
       "    </tr>\n",
       "    <tr>\n",
       "      <th>1</th>\n",
       "      <td>금정구</td>\n",
       "      <td>1435.636364</td>\n",
       "    </tr>\n",
       "    <tr>\n",
       "      <th>3</th>\n",
       "      <td>남구</td>\n",
       "      <td>1427.096774</td>\n",
       "    </tr>\n",
       "    <tr>\n",
       "      <th>15</th>\n",
       "      <td>해운대구</td>\n",
       "      <td>1425.833333</td>\n",
       "    </tr>\n",
       "    <tr>\n",
       "      <th>8</th>\n",
       "      <td>사상구</td>\n",
       "      <td>1418.066667</td>\n",
       "    </tr>\n",
       "    <tr>\n",
       "      <th>12</th>\n",
       "      <td>연제구</td>\n",
       "      <td>1413.333333</td>\n",
       "    </tr>\n",
       "    <tr>\n",
       "      <th>5</th>\n",
       "      <td>동래구</td>\n",
       "      <td>1412.736842</td>\n",
       "    </tr>\n",
       "    <tr>\n",
       "      <th>4</th>\n",
       "      <td>동구</td>\n",
       "      <td>1412.400000</td>\n",
       "    </tr>\n",
       "    <tr>\n",
       "      <th>6</th>\n",
       "      <td>부산진구</td>\n",
       "      <td>1410.956522</td>\n",
       "    </tr>\n",
       "    <tr>\n",
       "      <th>0</th>\n",
       "      <td>강서구</td>\n",
       "      <td>1404.700000</td>\n",
       "    </tr>\n",
       "    <tr>\n",
       "      <th>9</th>\n",
       "      <td>사하구</td>\n",
       "      <td>1404.593750</td>\n",
       "    </tr>\n",
       "    <tr>\n",
       "      <th>10</th>\n",
       "      <td>서구</td>\n",
       "      <td>1403.200000</td>\n",
       "    </tr>\n",
       "    <tr>\n",
       "      <th>2</th>\n",
       "      <td>기장군</td>\n",
       "      <td>1402.369565</td>\n",
       "    </tr>\n",
       "    <tr>\n",
       "      <th>7</th>\n",
       "      <td>북구</td>\n",
       "      <td>1397.111111</td>\n",
       "    </tr>\n",
       "  </tbody>\n",
       "</table>\n",
       "</div>"
      ],
      "text/plain": [
       "       구         경유평균\n",
       "13   영도구  1510.000000\n",
       "11   수영구  1442.375000\n",
       "14    중구  1441.500000\n",
       "1    금정구  1435.636364\n",
       "3     남구  1427.096774\n",
       "15  해운대구  1425.833333\n",
       "8    사상구  1418.066667\n",
       "12   연제구  1413.333333\n",
       "5    동래구  1412.736842\n",
       "4     동구  1412.400000\n",
       "6   부산진구  1410.956522\n",
       "0    강서구  1404.700000\n",
       "9    사하구  1404.593750\n",
       "10    서구  1403.200000\n",
       "2    기장군  1402.369565\n",
       "7     북구  1397.111111"
      ]
     },
     "execution_count": 110,
     "metadata": {},
     "output_type": "execute_result"
    }
   ],
   "source": [
    "data_diesel = data_diesel.sort_values(by='경유평균', ascending=False)\n",
    "data_diesel"
   ]
  },
  {
   "cell_type": "code",
   "execution_count": 123,
   "id": "2d2c2787",
   "metadata": {},
   "outputs": [
    {
     "data": {
      "image/png": "[encoded data removed]",
      "text/plain": [
       "<Figure size 648x576 with 1 Axes>"
      ]
     },
     "metadata": {
      "needs_background": "light"
     },
     "output_type": "display_data"
    }
   ],
   "source": [
    "import matplotlib.pyplot as plt\n",
    "data_diesel.plot(x='구', y='경유평균', kind=\"bar\",figsize=(9,8)) #x축, y축\n",
    "plt.title('부산시 구 별 경유 평균 가격')\n",
    "plt.show()"
   ]
  },
  {
   "cell_type": "markdown",
   "id": "87db59a0",
   "metadata": {},
   "source": [
    "#### 가장 비싼 곳은 영도구, 가장 싼 곳은 북구. 이번에도 해운대구는 중간 정도였다."
   ]
  },
  {
   "cell_type": "code",
   "execution_count": null,
   "id": "1ebff960",
   "metadata": {},
   "outputs": [],
   "source": []
  },
  {
   "cell_type": "markdown",
   "id": "cc62a293",
   "metadata": {},
   "source": [
    "### 2. 알뜰주유소의 기름가격이 다른 상표에 비해서 많이 저렴할 것이다.<br>\n",
    "▶어떤 브랜드가 가장 저렴한지"
   ]
  },
  {
   "cell_type": "markdown",
   "id": "6929a343",
   "metadata": {},
   "source": [
    "* 휘발유"
   ]
  },
  {
   "cell_type": "code",
   "execution_count": 113,
   "id": "4c4f4974",
   "metadata": {},
   "outputs": [
    {
     "data": {
      "text/html": [
       "<div>\n",
       "<style scoped>\n",
       "    .dataframe tbody tr th:only-of-type {\n",
       "        vertical-align: middle;\n",
       "    }\n",
       "\n",
       "    .dataframe tbody tr th {\n",
       "        vertical-align: top;\n",
       "    }\n",
       "\n",
       "    .dataframe thead th {\n",
       "        text-align: right;\n",
       "    }\n",
       "</style>\n",
       "<table border=\"1\" class=\"dataframe\">\n",
       "  <thead>\n",
       "    <tr style=\"text-align: right;\">\n",
       "      <th></th>\n",
       "      <th>상표</th>\n",
       "      <th>휘발유평균</th>\n",
       "    </tr>\n",
       "  </thead>\n",
       "  <tbody>\n",
       "    <tr>\n",
       "      <th>0</th>\n",
       "      <td>GS칼텍스</td>\n",
       "      <td>1585.500000</td>\n",
       "    </tr>\n",
       "    <tr>\n",
       "      <th>1</th>\n",
       "      <td>NH-OIL</td>\n",
       "      <td>1549.333333</td>\n",
       "    </tr>\n",
       "    <tr>\n",
       "      <th>2</th>\n",
       "      <td>S-OIL</td>\n",
       "      <td>1598.706667</td>\n",
       "    </tr>\n",
       "    <tr>\n",
       "      <th>3</th>\n",
       "      <td>SK에너지</td>\n",
       "      <td>1609.324324</td>\n",
       "    </tr>\n",
       "    <tr>\n",
       "      <th>4</th>\n",
       "      <td>알뜰주유소</td>\n",
       "      <td>1545.678571</td>\n",
       "    </tr>\n",
       "    <tr>\n",
       "      <th>5</th>\n",
       "      <td>자가상표</td>\n",
       "      <td>1581.250000</td>\n",
       "    </tr>\n",
       "    <tr>\n",
       "      <th>6</th>\n",
       "      <td>현대오일뱅크</td>\n",
       "      <td>1590.153846</td>\n",
       "    </tr>\n",
       "  </tbody>\n",
       "</table>\n",
       "</div>"
      ],
      "text/plain": [
       "       상표        휘발유평균\n",
       "0   GS칼텍스  1585.500000\n",
       "1  NH-OIL  1549.333333\n",
       "2   S-OIL  1598.706667\n",
       "3   SK에너지  1609.324324\n",
       "4   알뜰주유소  1545.678571\n",
       "5    자가상표  1581.250000\n",
       "6  현대오일뱅크  1590.153846"
      ]
     },
     "execution_count": 113,
     "metadata": {},
     "output_type": "execute_result"
    }
   ],
   "source": [
    "data_cheap = data1.groupby('상표')['휘발유'].agg(**{'휘발유평균':'mean'}).reset_index()\n",
    "data_cheap"
   ]
  },
  {
   "cell_type": "markdown",
   "id": "788b5b34",
   "metadata": {},
   "source": [
    "내림차순으로 나열하여 가장 싼 브랜드부터 나열"
   ]
  },
  {
   "cell_type": "code",
   "execution_count": 114,
   "id": "be94504b",
   "metadata": {},
   "outputs": [
    {
     "data": {
      "text/html": [
       "<div>\n",
       "<style scoped>\n",
       "    .dataframe tbody tr th:only-of-type {\n",
       "        vertical-align: middle;\n",
       "    }\n",
       "\n",
       "    .dataframe tbody tr th {\n",
       "        vertical-align: top;\n",
       "    }\n",
       "\n",
       "    .dataframe thead th {\n",
       "        text-align: right;\n",
       "    }\n",
       "</style>\n",
       "<table border=\"1\" class=\"dataframe\">\n",
       "  <thead>\n",
       "    <tr style=\"text-align: right;\">\n",
       "      <th></th>\n",
       "      <th>상표</th>\n",
       "      <th>휘발유평균</th>\n",
       "    </tr>\n",
       "  </thead>\n",
       "  <tbody>\n",
       "    <tr>\n",
       "      <th>4</th>\n",
       "      <td>알뜰주유소</td>\n",
       "      <td>1545.678571</td>\n",
       "    </tr>\n",
       "    <tr>\n",
       "      <th>1</th>\n",
       "      <td>NH-OIL</td>\n",
       "      <td>1549.333333</td>\n",
       "    </tr>\n",
       "    <tr>\n",
       "      <th>5</th>\n",
       "      <td>자가상표</td>\n",
       "      <td>1581.250000</td>\n",
       "    </tr>\n",
       "    <tr>\n",
       "      <th>0</th>\n",
       "      <td>GS칼텍스</td>\n",
       "      <td>1585.500000</td>\n",
       "    </tr>\n",
       "    <tr>\n",
       "      <th>6</th>\n",
       "      <td>현대오일뱅크</td>\n",
       "      <td>1590.153846</td>\n",
       "    </tr>\n",
       "    <tr>\n",
       "      <th>2</th>\n",
       "      <td>S-OIL</td>\n",
       "      <td>1598.706667</td>\n",
       "    </tr>\n",
       "    <tr>\n",
       "      <th>3</th>\n",
       "      <td>SK에너지</td>\n",
       "      <td>1609.324324</td>\n",
       "    </tr>\n",
       "  </tbody>\n",
       "</table>\n",
       "</div>"
      ],
      "text/plain": [
       "       상표        휘발유평균\n",
       "4   알뜰주유소  1545.678571\n",
       "1  NH-OIL  1549.333333\n",
       "5    자가상표  1581.250000\n",
       "0   GS칼텍스  1585.500000\n",
       "6  현대오일뱅크  1590.153846\n",
       "2   S-OIL  1598.706667\n",
       "3   SK에너지  1609.324324"
      ]
     },
     "execution_count": 114,
     "metadata": {},
     "output_type": "execute_result"
    }
   ],
   "source": [
    "data_cheap = data_cheap.sort_values(by='휘발유평균', ascending=True)\n",
    "data_cheap"
   ]
  },
  {
   "cell_type": "code",
   "execution_count": 124,
   "id": "d08d76e5",
   "metadata": {},
   "outputs": [
    {
     "data": {
      "image/png": "[encoded data removed]",
      "text/plain": [
       "<Figure size 648x576 with 1 Axes>"
      ]
     },
     "metadata": {
      "needs_background": "light"
     },
     "output_type": "display_data"
    }
   ],
   "source": [
    "import matplotlib.pyplot as plt\n",
    "data_cheap.plot(x='상표', y='휘발유평균', kind=\"bar\",figsize=(9,8)) #x축, y축\n",
    "plt.title('부산시 브랜드 별 휘발유 평균 가격')\n",
    "plt.show()"
   ]
  },
  {
   "cell_type": "markdown",
   "id": "48d3fc2c",
   "metadata": {},
   "source": [
    "#### 알뜰주유소의 휘발유 가격이 다른 브랜드보다 저렴하다."
   ]
  },
  {
   "cell_type": "markdown",
   "id": "b4a40f2e",
   "metadata": {},
   "source": [
    "* 경유"
   ]
  },
  {
   "cell_type": "code",
   "execution_count": 118,
   "id": "baa121db",
   "metadata": {},
   "outputs": [
    {
     "data": {
      "text/html": [
       "<div>\n",
       "<style scoped>\n",
       "    .dataframe tbody tr th:only-of-type {\n",
       "        vertical-align: middle;\n",
       "    }\n",
       "\n",
       "    .dataframe tbody tr th {\n",
       "        vertical-align: top;\n",
       "    }\n",
       "\n",
       "    .dataframe thead th {\n",
       "        text-align: right;\n",
       "    }\n",
       "</style>\n",
       "<table border=\"1\" class=\"dataframe\">\n",
       "  <thead>\n",
       "    <tr style=\"text-align: right;\">\n",
       "      <th></th>\n",
       "      <th>상표</th>\n",
       "      <th>경유평균</th>\n",
       "    </tr>\n",
       "  </thead>\n",
       "  <tbody>\n",
       "    <tr>\n",
       "      <th>0</th>\n",
       "      <td>GS칼텍스</td>\n",
       "      <td>1413.825581</td>\n",
       "    </tr>\n",
       "    <tr>\n",
       "      <th>1</th>\n",
       "      <td>NH-OIL</td>\n",
       "      <td>1367.666667</td>\n",
       "    </tr>\n",
       "    <tr>\n",
       "      <th>2</th>\n",
       "      <td>S-OIL</td>\n",
       "      <td>1419.053333</td>\n",
       "    </tr>\n",
       "    <tr>\n",
       "      <th>3</th>\n",
       "      <td>SK에너지</td>\n",
       "      <td>1431.828829</td>\n",
       "    </tr>\n",
       "    <tr>\n",
       "      <th>4</th>\n",
       "      <td>알뜰주유소</td>\n",
       "      <td>1373.500000</td>\n",
       "    </tr>\n",
       "    <tr>\n",
       "      <th>5</th>\n",
       "      <td>자가상표</td>\n",
       "      <td>1405.750000</td>\n",
       "    </tr>\n",
       "    <tr>\n",
       "      <th>6</th>\n",
       "      <td>현대오일뱅크</td>\n",
       "      <td>1415.153846</td>\n",
       "    </tr>\n",
       "  </tbody>\n",
       "</table>\n",
       "</div>"
      ],
      "text/plain": [
       "       상표         경유평균\n",
       "0   GS칼텍스  1413.825581\n",
       "1  NH-OIL  1367.666667\n",
       "2   S-OIL  1419.053333\n",
       "3   SK에너지  1431.828829\n",
       "4   알뜰주유소  1373.500000\n",
       "5    자가상표  1405.750000\n",
       "6  현대오일뱅크  1415.153846"
      ]
     },
     "execution_count": 118,
     "metadata": {},
     "output_type": "execute_result"
    }
   ],
   "source": [
    "data_cheap2 = data1.groupby('상표')['경유'].agg(**{'경유평균':'mean'}).reset_index()\n",
    "data_cheap2"
   ]
  },
  {
   "cell_type": "markdown",
   "id": "fe206b94",
   "metadata": {},
   "source": [
    "내림차순으로 나열하여 가장 싼 브랜드부터 나열"
   ]
  },
  {
   "cell_type": "code",
   "execution_count": 119,
   "id": "89754e61",
   "metadata": {},
   "outputs": [
    {
     "data": {
      "text/html": [
       "<div>\n",
       "<style scoped>\n",
       "    .dataframe tbody tr th:only-of-type {\n",
       "        vertical-align: middle;\n",
       "    }\n",
       "\n",
       "    .dataframe tbody tr th {\n",
       "        vertical-align: top;\n",
       "    }\n",
       "\n",
       "    .dataframe thead th {\n",
       "        text-align: right;\n",
       "    }\n",
       "</style>\n",
       "<table border=\"1\" class=\"dataframe\">\n",
       "  <thead>\n",
       "    <tr style=\"text-align: right;\">\n",
       "      <th></th>\n",
       "      <th>상표</th>\n",
       "      <th>경유평균</th>\n",
       "    </tr>\n",
       "  </thead>\n",
       "  <tbody>\n",
       "    <tr>\n",
       "      <th>1</th>\n",
       "      <td>NH-OIL</td>\n",
       "      <td>1367.666667</td>\n",
       "    </tr>\n",
       "    <tr>\n",
       "      <th>4</th>\n",
       "      <td>알뜰주유소</td>\n",
       "      <td>1373.500000</td>\n",
       "    </tr>\n",
       "    <tr>\n",
       "      <th>5</th>\n",
       "      <td>자가상표</td>\n",
       "      <td>1405.750000</td>\n",
       "    </tr>\n",
       "    <tr>\n",
       "      <th>0</th>\n",
       "      <td>GS칼텍스</td>\n",
       "      <td>1413.825581</td>\n",
       "    </tr>\n",
       "    <tr>\n",
       "      <th>6</th>\n",
       "      <td>현대오일뱅크</td>\n",
       "      <td>1415.153846</td>\n",
       "    </tr>\n",
       "    <tr>\n",
       "      <th>2</th>\n",
       "      <td>S-OIL</td>\n",
       "      <td>1419.053333</td>\n",
       "    </tr>\n",
       "    <tr>\n",
       "      <th>3</th>\n",
       "      <td>SK에너지</td>\n",
       "      <td>1431.828829</td>\n",
       "    </tr>\n",
       "  </tbody>\n",
       "</table>\n",
       "</div>"
      ],
      "text/plain": [
       "       상표         경유평균\n",
       "1  NH-OIL  1367.666667\n",
       "4   알뜰주유소  1373.500000\n",
       "5    자가상표  1405.750000\n",
       "0   GS칼텍스  1413.825581\n",
       "6  현대오일뱅크  1415.153846\n",
       "2   S-OIL  1419.053333\n",
       "3   SK에너지  1431.828829"
      ]
     },
     "execution_count": 119,
     "metadata": {},
     "output_type": "execute_result"
    }
   ],
   "source": [
    "data_cheap2 = data_cheap2.sort_values(by='경유평균', ascending=True)\n",
    "data_cheap2"
   ]
  },
  {
   "cell_type": "code",
   "execution_count": 125,
   "id": "97f81352",
   "metadata": {},
   "outputs": [
    {
     "data": {
      "image/png": "[encoded data removed]",
      "text/plain": [
       "<Figure size 648x576 with 1 Axes>"
      ]
     },
     "metadata": {
      "needs_background": "light"
     },
     "output_type": "display_data"
    }
   ],
   "source": [
    "import matplotlib.pyplot as plt\n",
    "data_cheap2.plot(x='상표', y='경유평균', kind=\"bar\",figsize=(9,8)) #x축, y축\n",
    "plt.title('부산시 브랜드 별 경유 평균 가격')\n",
    "plt.show()"
   ]
  },
  {
   "cell_type": "markdown",
   "id": "88b1460c",
   "metadata": {},
   "source": [
    "#### 놀랍게도 NH-OIL의 경유가 알뜰주유소의 경유보다 저렴하다"
   ]
  },
  {
   "cell_type": "code",
   "execution_count": null,
   "id": "9b0a2187",
   "metadata": {},
   "outputs": [],
   "source": []
  },
  {
   "cell_type": "markdown",
   "id": "87b4cb6b",
   "metadata": {},
   "source": [
    "### 3. 셀프 주유소를 사용하는 것이 비셀프 주유소를 이용하는 것보다 훨씬 저렴할 것이다.\n",
    "* 셀프 주유소와 비셀프 주유소 간의 평균 가격 차이가 얼마나 나는지"
   ]
  },
  {
   "cell_type": "markdown",
   "id": "4e5b4e70",
   "metadata": {},
   "source": [
    "* 휘발유"
   ]
  },
  {
   "cell_type": "code",
   "execution_count": 46,
   "id": "f8898d90",
   "metadata": {},
   "outputs": [
    {
     "data": {
      "text/plain": [
       "1580.3947368421052"
      ]
     },
     "execution_count": 46,
     "metadata": {},
     "output_type": "execute_result"
    }
   ],
   "source": [
    "condition = (data1['셀프여부'] == 'Y')\n",
    "self_Y_mean = data1.loc[condition, '휘발유'].mean()\n",
    "self_Y_mean"
   ]
  },
  {
   "cell_type": "code",
   "execution_count": 47,
   "id": "1727cb74",
   "metadata": {},
   "outputs": [
    {
     "data": {
      "text/plain": [
       "1620.0840336134454"
      ]
     },
     "execution_count": 47,
     "metadata": {},
     "output_type": "execute_result"
    }
   ],
   "source": [
    "condition = (data1['셀프여부'] == 'N')\n",
    "self_N_mean = data1.loc[condition, '휘발유'].mean()\n",
    "self_N_mean"
   ]
  },
  {
   "cell_type": "code",
   "execution_count": 49,
   "id": "aee66cbd",
   "metadata": {},
   "outputs": [
    {
     "data": {
      "text/html": [
       "<div>\n",
       "<style scoped>\n",
       "    .dataframe tbody tr th:only-of-type {\n",
       "        vertical-align: middle;\n",
       "    }\n",
       "\n",
       "    .dataframe tbody tr th {\n",
       "        vertical-align: top;\n",
       "    }\n",
       "\n",
       "    .dataframe thead th {\n",
       "        text-align: right;\n",
       "    }\n",
       "</style>\n",
       "<table border=\"1\" class=\"dataframe\">\n",
       "  <thead>\n",
       "    <tr style=\"text-align: right;\">\n",
       "      <th></th>\n",
       "      <th>self</th>\n",
       "      <th>price</th>\n",
       "    </tr>\n",
       "  </thead>\n",
       "  <tbody>\n",
       "    <tr>\n",
       "      <th>0</th>\n",
       "      <td>self_Y</td>\n",
       "      <td>1580.394737</td>\n",
       "    </tr>\n",
       "    <tr>\n",
       "      <th>1</th>\n",
       "      <td>self_N</td>\n",
       "      <td>1620.084034</td>\n",
       "    </tr>\n",
       "  </tbody>\n",
       "</table>\n",
       "</div>"
      ],
      "text/plain": [
       "     self        price\n",
       "0  self_Y  1580.394737\n",
       "1  self_N  1620.084034"
      ]
     },
     "execution_count": 49,
     "metadata": {},
     "output_type": "execute_result"
    }
   ],
   "source": [
    "self_data = {'self': ['self_Y', 'self_N'],\n",
    "        'price': [self_Y_mean, self_N_mean],\n",
    "          }\n",
    "self_df = pd.DataFrame(self_data)\n",
    "self_df"
   ]
  },
  {
   "cell_type": "code",
   "execution_count": 127,
   "id": "e7f5f4e8",
   "metadata": {},
   "outputs": [
    {
     "name": "stdout",
     "output_type": "stream",
     "text": [
      "셀프 주유소에서 휘발유를 넣을 때 : 1580.395 원\n",
      "비셀프 주유소에서 휘발유를 넣을 때 : 1620.084 원\n"
     ]
    },
    {
     "data": {
      "image/png": "[encoded data removed]",
      "text/plain": [
       "<Figure size 432x288 with 1 Axes>"
      ]
     },
     "metadata": {
      "needs_background": "light"
     },
     "output_type": "display_data"
    }
   ],
   "source": [
    "print('셀프 주유소에서 휘발유를 넣을 때 :', round(self_Y_mean, 3), '원')\n",
    "print('비셀프 주유소에서 휘발유를 넣을 때 :', round(self_N_mean, 3), '원')\n",
    "\n",
    "import matplotlib.pyplot as plt\n",
    "\n",
    "plt.rc('font', family = 'Malgun Gothic')\n",
    "plt.title('부산시 셀프/비셀프 주유소 휘발유 평균 가격')\n",
    "plt.bar([\"셀프\", \"비셀프\"], height = [self_Y_mean, self_N_mean]) #속성 height(높이)\n",
    "plt.ylim([1500, 1630])     # Y축의 범위: [ymin, ymax]\n",
    "plt.show()"
   ]
  },
  {
   "cell_type": "markdown",
   "id": "8e70e72d",
   "metadata": {},
   "source": [
    "50L를 넣는다고 가정한다면..."
   ]
  },
  {
   "cell_type": "code",
   "execution_count": 151,
   "id": "8649eb14",
   "metadata": {},
   "outputs": [
    {
     "name": "stdout",
     "output_type": "stream",
     "text": [
      "셀프 주유소에서 50L를 넣을 때 : 79019.737 원\n",
      "비셀프 주유소에서 50L를 넣을 때 : 81004.202 원\n",
      "1984.465 원 차이\n"
     ]
    },
    {
     "data": {
      "image/png": "[encoded data removed]",
      "text/plain": [
       "<Figure size 432x288 with 1 Axes>"
      ]
     },
     "metadata": {
      "needs_background": "light"
     },
     "output_type": "display_data"
    }
   ],
   "source": [
    "#50리터를 넣는다면\n",
    "\n",
    "print('셀프 주유소에서 50L를 넣을 때 :', round(self_Y_mean * 50, 3), '원')\n",
    "print('비셀프 주유소에서 50L를 넣을 때 :', round(self_N_mean * 50, 3), '원')\n",
    "print(round(self_N_mean * 50 -self_Y_mean * 50, 3), '원 차이')\n",
    "\n",
    "import matplotlib.pyplot as plt\n",
    "\n",
    "plt.rc('font', family = 'Malgun Gothic')\n",
    "plt.title('부산시 셀프/비셀프 주유소 휘발유 평균 가격(50L)')\n",
    "plt.bar([\"셀프\", \"비셀프\"], height = [self_Y_mean * 50, self_N_mean * 50]) #속성 height(높이)\n",
    "plt.ylim([75000, 82000])     # Y축의 범위: [ymin, ymax]\n",
    "plt.show()"
   ]
  },
  {
   "cell_type": "markdown",
   "id": "ab77e956",
   "metadata": {},
   "source": [
    "* 경유"
   ]
  },
  {
   "cell_type": "code",
   "execution_count": 130,
   "id": "db49b695",
   "metadata": {},
   "outputs": [
    {
     "data": {
      "text/plain": [
       "1406.1315789473683"
      ]
     },
     "execution_count": 130,
     "metadata": {},
     "output_type": "execute_result"
    }
   ],
   "source": [
    "condition = (data1['셀프여부'] == 'Y')\n",
    "self_Y_mean2 = data1.loc[condition, '경유'].mean()\n",
    "self_Y_mean2"
   ]
  },
  {
   "cell_type": "code",
   "execution_count": 131,
   "id": "8bb41ba7",
   "metadata": {},
   "outputs": [
    {
     "data": {
      "text/plain": [
       "1441.0588235294117"
      ]
     },
     "execution_count": 131,
     "metadata": {},
     "output_type": "execute_result"
    }
   ],
   "source": [
    "condition = (data1['셀프여부'] == 'N')\n",
    "self_N_mean2 = data1.loc[condition, '경유'].mean()\n",
    "self_N_mean2"
   ]
  },
  {
   "cell_type": "code",
   "execution_count": 134,
   "id": "cad26748",
   "metadata": {},
   "outputs": [
    {
     "data": {
      "text/html": [
       "<div>\n",
       "<style scoped>\n",
       "    .dataframe tbody tr th:only-of-type {\n",
       "        vertical-align: middle;\n",
       "    }\n",
       "\n",
       "    .dataframe tbody tr th {\n",
       "        vertical-align: top;\n",
       "    }\n",
       "\n",
       "    .dataframe thead th {\n",
       "        text-align: right;\n",
       "    }\n",
       "</style>\n",
       "<table border=\"1\" class=\"dataframe\">\n",
       "  <thead>\n",
       "    <tr style=\"text-align: right;\">\n",
       "      <th></th>\n",
       "      <th>self</th>\n",
       "      <th>price</th>\n",
       "    </tr>\n",
       "  </thead>\n",
       "  <tbody>\n",
       "    <tr>\n",
       "      <th>0</th>\n",
       "      <td>self_Y</td>\n",
       "      <td>1406.131579</td>\n",
       "    </tr>\n",
       "    <tr>\n",
       "      <th>1</th>\n",
       "      <td>self_N</td>\n",
       "      <td>1441.058824</td>\n",
       "    </tr>\n",
       "  </tbody>\n",
       "</table>\n",
       "</div>"
      ],
      "text/plain": [
       "     self        price\n",
       "0  self_Y  1406.131579\n",
       "1  self_N  1441.058824"
      ]
     },
     "execution_count": 134,
     "metadata": {},
     "output_type": "execute_result"
    }
   ],
   "source": [
    "self_data2 = {'self': ['self_Y', 'self_N'],\n",
    "        'price': [self_Y_mean2, self_N_mean2],\n",
    "          }\n",
    "self_df2 = pd.DataFrame(self_data2)\n",
    "self_df2"
   ]
  },
  {
   "cell_type": "code",
   "execution_count": 138,
   "id": "8ac77583",
   "metadata": {},
   "outputs": [
    {
     "name": "stdout",
     "output_type": "stream",
     "text": [
      "셀프 주유소에서 경유를 넣을 때 : 1406.132 원\n",
      "비셀프 주유소에서 경유를 넣을 때 : 1441.059 원\n"
     ]
    },
    {
     "data": {
      "image/png": "[encoded data removed]",
      "text/plain": [
       "<Figure size 432x288 with 1 Axes>"
      ]
     },
     "metadata": {
      "needs_background": "light"
     },
     "output_type": "display_data"
    }
   ],
   "source": [
    "print('셀프 주유소에서 경유를 넣을 때 :', round(self_Y_mean2, 3), '원')\n",
    "print('비셀프 주유소에서 경유를 넣을 때 :', round(self_N_mean2, 3), '원')\n",
    "\n",
    "import matplotlib.pyplot as plt\n",
    "\n",
    "plt.rc('font', family = 'Malgun Gothic')\n",
    "plt.title('부산시 셀프/비셀프 주유소 경유 평균 가격')\n",
    "plt.bar([\"셀프\", \"비셀프\"], height = [self_Y_mean2, self_N_mean2]) #속성 height(높이)\n",
    "plt.ylim([1350, 1450])     # Y축의 범위: [ymin, ymax]\n",
    "plt.show()"
   ]
  },
  {
   "cell_type": "code",
   "execution_count": 150,
   "id": "3790a519",
   "metadata": {},
   "outputs": [
    {
     "name": "stdout",
     "output_type": "stream",
     "text": [
      "셀프 주유소에서 경유를 넣을 때 : 70306.579 원\n",
      "비셀프 주유소에서 경유를 넣을 때 : 72052.941 원\n",
      "1746.362 원 차이\n"
     ]
    },
    {
     "data": {
      "image/png": "[encoded data removed]",
      "text/plain": [
       "<Figure size 432x288 with 1 Axes>"
      ]
     },
     "metadata": {
      "needs_background": "light"
     },
     "output_type": "display_data"
    }
   ],
   "source": [
    "print('셀프 주유소에서 경유를 넣을 때 :', round(self_Y_mean2 * 50, 3), '원')\n",
    "print('비셀프 주유소에서 경유를 넣을 때 :', round(self_N_mean2 * 50, 3), '원')\n",
    "print(round(self_N_mean2 * 50 -self_Y_mean2 * 50, 3), '원 차이')\n",
    "\n",
    "import matplotlib.pyplot as plt\n",
    "\n",
    "plt.rc('font', family = 'Malgun Gothic')\n",
    "plt.title('부산시 셀프/비셀프 주유소 경유 평균 가격(50L)')\n",
    "plt.bar([\"셀프\", \"비셀프\"], height = [self_Y_mean2 * 50, self_N_mean2 * 50]) #속성 height(높이)\n",
    "plt.ylim([63000, 73000])     # Y축의 범위: [ymin, ymax]\n",
    "plt.show()"
   ]
  },
  {
   "cell_type": "code",
   "execution_count": null,
   "id": "d65d4ab1",
   "metadata": {},
   "outputs": [],
   "source": []
  },
  {
   "cell_type": "code",
   "execution_count": null,
   "id": "2ebea862",
   "metadata": {},
   "outputs": [],
   "source": []
  }
 ],
 "metadata": {
  "kernelspec": {
   "display_name": "Python 3",
   "language": "python",
   "name": "python3"
  },
  "language_info": {
   "codemirror_mode": {
    "name": "ipython",
    "version": 3
   },
   "file_extension": ".py",
   "mimetype": "text/x-python",
   "name": "python",
   "nbconvert_exporter": "python",
   "pygments_lexer": "ipython3",
   "version": "3.8.8"
  }
 },
 "nbformat": 4,
 "nbformat_minor": 5
}
